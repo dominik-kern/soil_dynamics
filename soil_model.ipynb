{
 "cells": [
  {
   "cell_type": "markdown",
   "metadata": {
    "deletable": false,
    "editable": false
   },
   "source": [
    "![Logo TUBAF](https://tu-freiberg.de/sites/default/files/media/freiberger-alumni-netzwerk-6127/wbm_orig_rgb_0.jpg)\n",
    "\n",
    "Exercise material of the MSc-level course **Soil Dynamics**.\n",
    "Held at Technische Universität Bergakademie Freiberg.\n",
    "\n",
    "Comments to:\n",
    "\n",
    "*Prof. Dr. Thomas Nagel  \n",
    "Chair of Soil Mechanics and Foundation Engineering  \n",
    "Geotechnical Institute  \n",
    "Technische Universität Bergakademie Freiberg.*\n",
    "\n",
    "https://tu-freiberg.de/en/fakultaet3/gt/soilmechanics\n"
   ]
  },
  {
   "cell_type": "markdown",
   "metadata": {},
   "source": [
    "# Mechanisches Bodenverhalten\n"
   ]
  },
  {
   "cell_type": "markdown",
   "metadata": {},
   "source": [
    "Module laden"
   ]
  },
  {
   "cell_type": "code",
   "execution_count": 12,
   "metadata": {},
   "outputs": [],
   "source": [
    "import sympy as sp\n",
    "sp.init_printing(use_latex='mathjax')\n",
    "import numpy as np\n",
    "import matplotlib.pyplot as plt\n",
    "from ipywidgets import widgets\n",
    "from ipywidgets import interact\n",
    "import plot_functions.plot_settings\n",
    "%run plot_functions/soil_model_interaction.ipynb"
   ]
  },
  {
   "cell_type": "markdown",
   "metadata": {},
   "source": [
    "## Dämpfungskapazität"
   ]
  },
  {
   "cell_type": "markdown",
   "metadata": {},
   "source": [
    "Symbolische Variablen einführen"
   ]
  },
  {
   "cell_type": "code",
   "execution_count": 24,
   "metadata": {},
   "outputs": [],
   "source": [
    "zeta, eta, k, u_hat, omega, phi = sp.symbols('zeta eta k \\hat{u} omega t')"
   ]
  },
  {
   "cell_type": "markdown",
   "metadata": {},
   "source": [
    "Kraftverlauf und Verschiebungsdifferential"
   ]
  },
  {
   "cell_type": "code",
   "execution_count": 25,
   "metadata": {},
   "outputs": [
    {
     "data": {
      "text/latex": [
       "$\\displaystyle 2 \\hat{u} \\eta k \\zeta \\sin{\\left(t \\right)}$"
      ],
      "text/plain": [
       "2⋅\\hat{u}⋅η⋅k⋅ζ⋅sin(t)"
      ]
     },
     "execution_count": 25,
     "metadata": {},
     "output_type": "execute_result"
    }
   ],
   "source": [
    "FD = 2*zeta*eta*k*u_hat*sp.sin(phi)\n",
    "FD"
   ]
  },
  {
   "cell_type": "code",
   "execution_count": 26,
   "metadata": {},
   "outputs": [
    {
     "data": {
      "text/latex": [
       "$\\displaystyle \\hat{u} \\sin{\\left(t \\right)}$"
      ],
      "text/plain": [
       "\\hat{u}⋅sin(t)"
      ]
     },
     "execution_count": 26,
     "metadata": {},
     "output_type": "execute_result"
    }
   ],
   "source": [
    "du = u_hat*sp.sin(phi)\n",
    "du"
   ]
  },
  {
   "cell_type": "markdown",
   "metadata": {},
   "source": [
    "Dämpfungsarbeit über einen Zyklus (Integration $\\varphi=0\\dots2\\pi$)"
   ]
  },
  {
   "cell_type": "code",
   "execution_count": 27,
   "metadata": {},
   "outputs": [
    {
     "data": {
      "text/latex": [
       "$\\displaystyle 2 \\pi \\hat{u}^{2} \\eta k \\zeta$"
      ],
      "text/plain": [
       "           2      \n",
       "2⋅π⋅\\hat{u} ⋅η⋅k⋅ζ"
      ]
     },
     "execution_count": 27,
     "metadata": {},
     "output_type": "execute_result"
    }
   ],
   "source": [
    "WD = sp.integrate(FD*du, (phi, 0, 2*sp.pi))\n",
    "WD"
   ]
  },
  {
   "cell_type": "markdown",
   "metadata": {},
   "source": [
    "Maximal in Feder gespeicherte Energie"
   ]
  },
  {
   "cell_type": "code",
   "execution_count": 28,
   "metadata": {},
   "outputs": [
    {
     "data": {
      "text/latex": [
       "$\\displaystyle 0.5 \\hat{u}^{2} k$"
      ],
      "text/plain": [
       "           2  \n",
       "0.5⋅\\hat{u} ⋅k"
      ]
     },
     "execution_count": 28,
     "metadata": {},
     "output_type": "execute_result"
    }
   ],
   "source": [
    "WFmax = (1/2)*k*u_hat**2\n",
    "WFmax"
   ]
  },
  {
   "cell_type": "markdown",
   "metadata": {},
   "source": [
    "Dämpfungskapazität"
   ]
  },
  {
   "cell_type": "code",
   "execution_count": 29,
   "metadata": {},
   "outputs": [
    {
     "data": {
      "text/latex": [
       "$\\displaystyle 4.0 \\pi \\eta \\zeta$"
      ],
      "text/plain": [
       "4.0⋅π⋅η⋅ζ"
      ]
     },
     "execution_count": 29,
     "metadata": {},
     "output_type": "execute_result"
    }
   ],
   "source": [
    "Psi = sp.simplify(WD/WFmax)\n",
    "Psi"
   ]
  },
  {
   "cell_type": "markdown",
   "metadata": {},
   "source": [
    "Was ändert sich bei hysteretischer Dämpfung?"
   ]
  },
  {
   "cell_type": "markdown",
   "metadata": {},
   "source": [
    "## Schubmodul und Dämpfung bei mittleren Dehnungen"
   ]
  },
  {
   "cell_type": "markdown",
   "metadata": {},
   "source": [
    "Handbuchformeln \\[Grundbau Taschenbuch\\] für bindige Böden (rollige Böden bei $I_\\text{P} = 0$):\n",
    "\n",
    "$$\n",
    "    \\frac{G}{G_\\text{max}} = \\frac{1.03}{1+\\frac{19}{1+(I_\\text{P}/15})^{1.3} \\gamma^{0.8}} \\leq 1 \\qquad \\gamma \\leq 1\\,\\%\n",
    "$$\n",
    "\n",
    "$$\n",
    "    D = 2 + \\frac{24.5 - (I_\\text{P}/5)}{1+\\frac{1}{7.4-(I_\\text{P}/10}) \\gamma^{0.8}} \\leq 1 \\qquad \\gamma \\leq 1\\,\\%,\\ I_\\text{P} \\leq 50\\,\\%\n",
    "$$"
   ]
  },
  {
   "cell_type": "code",
   "execution_count": 31,
   "metadata": {},
   "outputs": [],
   "source": [
    "G_Gmax = lambda GA, IP: 1.03/(1+(19*GA**0.8)/(1.0+(IP/15.0)**1.3))\n",
    "D = lambda GA, IP: 2 + (24.5-(IP/5.0))/(1.0+1.0/((7.4-(IP/10.0))*GA**0.8))"
   ]
  },
  {
   "cell_type": "markdown",
   "metadata": {},
   "source": [
    "Beispielwerte"
   ]
  },
  {
   "cell_type": "code",
   "execution_count": 36,
   "metadata": {},
   "outputs": [],
   "source": [
    "ga_hat = np.logspace(-4, 0) \n",
    "Ip_0 = 0    \n",
    "Ip_1 = 10\n",
    "Ip_2 = 20\n",
    "\n",
    "G_Gmax0=G_Gmax(ga_hat, Ip_0)\n",
    "D0 = D(ga_hat, Ip_0)\n",
    "\n",
    "G_Gmax1=G_Gmax(ga_hat, Ip_1)\n",
    "D1 = D(ga_hat, Ip_1)\n",
    "\n",
    "G_Gmax2=G_Gmax(ga_hat, Ip_2)\n",
    "D2 = D(ga_hat, Ip_2)"
   ]
  },
  {
   "cell_type": "code",
   "execution_count": 37,
   "metadata": {},
   "outputs": [
    {
     "data": {
      "image/png": "[encoded data removed]",
      "text/plain": [
       "<Figure size 576x432 with 2 Axes>"
      ]
     },
     "metadata": {
      "needs_background": "light"
     },
     "output_type": "display_data"
    }
   ],
   "source": [
    "fig, (ax1, ax2) = plt.subplots(1, 2);\n",
    "ax1.semilogx(ga_hat, G_Gmax0, 'r', ga_hat, G_Gmax1, 'g', ga_hat, G_Gmax2, 'b')\n",
    "ax1.set_xlabel(\"$\\gamma$ [%]\")\n",
    "ax1.set_ylabel(\"$G/G_\\mathrm{max}$\")\n",
    "ax1.legend([\"$I_p=0$%\", \"$I_p=10$%\", \"$I_p=20$%\"])\n",
    "ax2.semilogx(ga_hat, D0, 'r', ga_hat, D1, 'g', ga_hat, D2, 'b',)\n",
    "ax2.set_xlabel(\"$\\gamma$ [%]\")\n",
    "ax2.set_ylabel(\"$D$ [%]\");    "
   ]
  },
  {
   "cell_type": "markdown",
   "metadata": {},
   "source": [
    "Wie müssen die Verläufe für sehr kleine Dehnungen noch korrigiert werden?"
   ]
  },
  {
   "cell_type": "markdown",
   "metadata": {},
   "source": [
    "## Schubmodul bei sehr kleinen Dehnungen"
   ]
  },
  {
   "cell_type": "code",
   "execution_count": 38,
   "metadata": {},
   "outputs": [
    {
     "name": "stdout",
     "output_type": "stream",
     "text": [
      "GmaxNC = 63.76 MPa,   GmaxOC = 124.54 MPa\n"
     ]
    }
   ],
   "source": [
    "n = 0.5\n",
    "S = 625.0\n",
    "ee = 2.0\n",
    "Ip = 0.6\n",
    "Fe = 1/(0.3+0.7*ee**2)\n",
    "sigma_eff0 = 1e6\n",
    "p_atm = 1e5\n",
    "GmaxNC = S*Fe*p_atm*(sigma_eff0/p_atm)**n\n",
    "OCR = 5\n",
    "k= Ip /(1+3*Ip**2)**(0.5)\n",
    "GmaxOC = GmaxNC*OCR**k\n",
    "\n",
    "print('GmaxNC = {:2.2f} MPa,   GmaxOC = {:2.2f} MPa'.format(GmaxNC*1e-6, GmaxOC*1e-6))"
   ]
  },
  {
   "cell_type": "markdown",
   "metadata": {},
   "source": [
    "## Masing-Hypothese"
   ]
  },
  {
   "cell_type": "code",
   "execution_count": 39,
   "metadata": {},
   "outputs": [
    {
     "data": {
      "application/vnd.jupyter.widget-view+json": {
       "model_id": "518bd98e6b9e4f8fa34838e8744c062d",
       "version_major": 2,
       "version_minor": 0
      },
      "text/plain": [
       "interactive(children=(IntSlider(value=2, description='$\\\\gamma/\\\\gamma_r$:', max=15), Output()), _dom_classes=…"
      ]
     },
     "metadata": {},
     "output_type": "display_data"
    }
   ],
   "source": [
    "interactive_tau_gamma_plot()   # nondimensional parameters"
   ]
  },
  {
   "cell_type": "markdown",
   "metadata": {},
   "source": [
    "Wie könnte ein zyklischer dehnungsgesteuerter Belastungsvorgang mit veränderlicher Dehnungsamplitude aussehen?"
   ]
  },
  {
   "cell_type": "markdown",
   "metadata": {},
   "source": [
    "## Zusatzaufgabe (für Programmierfans)"
   ]
  },
  {
   "cell_type": "markdown",
   "metadata": {},
   "source": [
    "Simulieren Sie eine Be- und Entlastungsphase mit dem hypoplastischen Materialgesetz \\[W. Fellin: Hypoplasticity for beginners\\].\n",
    "\n",
    "$$\n",
    "    \\dot{\\sigma}=C_1\\sigma\\dot{\\varepsilon}+C_2\\sigma|\\dot{\\varepsilon}|\n",
    "$$\n",
    "\n",
    "Be- und entlasten Sie das Material also jeweils mit einer konstanten Dehnrate ausgehend von $\\sigma_0 = 100$ kPa bis auf eine maximale Spannung von 1 MPa. Danach entlasten Sie das Material wieder auf die Ausgangsspannung. Was passiert für dieses einfache Modell, wenn Sie weitere gleichartige Zyklen anschließen? Ist das sinnvoll?\n",
    "\n",
    "Verwenden Sie die Parameter $C_1 = 2 C_2 = 400$."
   ]
  }
 ],
 "metadata": {
  "kernelspec": {
   "display_name": "Python 3",
   "language": "python",
   "name": "python3"
  },
  "language_info": {
   "codemirror_mode": {
    "name": "ipython",
    "version": 3
   },
   "file_extension": ".py",
   "mimetype": "text/x-python",
   "name": "python",
   "nbconvert_exporter": "python",
   "pygments_lexer": "ipython3",
   "version": "3.8.6"
  }
 },
 "nbformat": 4,
 "nbformat_minor": 4
}
