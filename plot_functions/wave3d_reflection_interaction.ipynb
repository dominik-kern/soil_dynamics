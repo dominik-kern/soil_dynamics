{
 "cells": [
  {
   "cell_type": "code",
   "execution_count": 2,
   "metadata": {},
   "outputs": [],
   "source": [
    "def interactive_reflection_plot():\n",
    "    @interact(i_alpha = widgets.IntSlider(min=0, max=90, value=45, step=5, description='$\\\\alpha$ [°]:'),\n",
    "              i_nu = widgets.IntSlider(min=0, max=50, value=25, step=5, description='$\\nu$: [%]')\n",
    "             )\n",
    "\n",
    "    def plot_now(i_alpha, i_nu):   # interactive parameter: relative delta x shift\n",
    "        alpha = i_alpha*np.pi/180\n",
    "        nu = 0.2   #i_nu/100\n",
    "        beta = 0.5*alpha\n",
    "        ASre = 0.5\n",
    "        APre = 0.5\n",
    "        \n",
    "        pin_x=-np.sin(alpha)\n",
    "        pin_y=-np.cos(alpha)\n",
    "        pre_x= np.sin(alpha)\n",
    "        pre_y=-np.cos(alpha)\n",
    "        sre_x= np.sin(beta)\n",
    "        sre_y=-np.cos(beta)\n",
    "        \n",
    "        plt.plot ([-1, 1], [0, 0],'k', [0, 0], [-1, 1],'k--')\n",
    "        plt.annotate( \"P\", xy=(0, 0), xytext=(pin_x, pin_y), arrowprops=dict(arrowstyle=\"->\", color=[1,0,0]))\n",
    "        plt.annotate( \"P\", xy=(0, 0), xytext=(pre_x, pre_y), arrowprops=dict(arrowstyle=\"<-\", color=[APre,0,0]))\n",
    "        plt.annotate(\"SH\", xy=(0, 0), xytext=(sre_x, sre_y), arrowprops=dict(arrowstyle=\"<-\", color=[0,ASre,0]))\n",
    "        #ax.arrow(pin_x, pin_y, 0, 0, head_width=0.02, head_length=0.04, fc='k', ec='k')\n",
    "        #ax.arrow(0, 0, pre_x, pre_y, head_width=0.02, head_length=0.04, fc='k', ec='k')\n",
    "        #ax.set_aspect('equal')\n",
    "        plt.axis('off')\n",
    "        plt.gca().set_aspect('equal')\n",
    "        plt.show()"
   ]
  },
  {
   "cell_type": "code",
   "execution_count": null,
   "metadata": {},
   "outputs": [],
   "source": []
  }
 ],
 "metadata": {
  "kernelspec": {
   "display_name": "Python 3",
   "language": "python",
   "name": "python3"
  },
  "language_info": {
   "codemirror_mode": {
    "name": "ipython",
    "version": 3
   },
   "file_extension": ".py",
   "mimetype": "text/x-python",
   "name": "python",
   "nbconvert_exporter": "python",
   "pygments_lexer": "ipython3",
   "version": "3.8.5"
  }
 },
 "nbformat": 4,
 "nbformat_minor": 4
}
