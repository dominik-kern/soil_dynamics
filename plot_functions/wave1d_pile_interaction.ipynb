{
 "cells": [
  {
   "cell_type": "code",
   "execution_count": 2,
   "metadata": {},
   "outputs": [],
   "source": [
    "def interactive_pile_plot():\n",
    "    @interact(i_f=widgets.IntSlider(min=1, max=101, value=5, step=5, description='$f$ [Hz]:'),\n",
    "              i_H=widgets.IntSlider(min=1, max=201, value=101, step=10, description='$H/L$ [%]:'),\n",
    "              i_t=widgets.IntSlider(min=0, max=100, value=0, step=5, description='$t/T$ [%]:')\n",
    "             )\n",
    "\n",
    "    def plot_now(i_f, i_H, i_t):\n",
    "        # TODO nondimensional H/L, t/T0\n",
    "        # TODO print eigenfrequency f0 and change frequency fc (sin/cos <-> sinh/cosh)\n",
    "        # TODO switch case to remain in real domain\n",
    "        L_n = 10.0\n",
    "        F_n = 20e3\n",
    "        A_n = np.pi*0.2**2\n",
    "        rho_n = 2500.0\n",
    "        E_n = 25e9\n",
    "        c_n = np.sqrt(E_n/rho_n)\n",
    "        f_n = i_f\n",
    "        if f_n > 0:\n",
    "            T_n = 1/i_f\n",
    "        else:\n",
    "            T_n = 0\n",
    "        omega_n = 2*np.pi*f_n # first eigenfrequency without friction model (H=0): f=79.057\n",
    "        kappa_n = omega_n/c_n\n",
    "        H_n = (i_H/100.0)*L_n\n",
    "        t_n = (i_t/100.0)*T_n        \n",
    "\n",
    "        example = [ (A, A_n), (rho, rho_n), (E, E_n), (c, c_n), (omega, omega_n), (kappa, kappa_n), (F, F_n), (L, L_n), (H, H_n)] \n",
    "        w_example = sp.lambdify((z, t), wsol.subs(example), modules='numpy' )\n",
    "        \n",
    "        z_n = np.linspace(0, L_n)\n",
    "        w_n = w_example(z_n, t_n)\n",
    "        \n",
    "        plt.plot(z_n, w_n)\n",
    "        plt.show()\n",
    "        "
   ]
  },
  {
   "cell_type": "code",
   "execution_count": null,
   "metadata": {},
   "outputs": [],
   "source": []
  }
 ],
 "metadata": {
  "kernelspec": {
   "display_name": "Python 3",
   "language": "python",
   "name": "python3"
  },
  "language_info": {
   "codemirror_mode": {
    "name": "ipython",
    "version": 3
   },
   "file_extension": ".py",
   "mimetype": "text/x-python",
   "name": "python",
   "nbconvert_exporter": "python",
   "pygments_lexer": "ipython3",
   "version": "3.8.5"
  }
 },
 "nbformat": 4,
 "nbformat_minor": 4
}
