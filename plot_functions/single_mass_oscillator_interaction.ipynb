{
 "cells": [
  {
   "cell_type": "code",
   "execution_count": 6,
   "metadata": {},
   "outputs": [],
   "source": [
    "#zeta = 0.1\n",
    "#eta = 0.5\n",
    "#u_0 = 1.0\n",
    "#v_0 = 0.0\n",
    "#a_s = 0.1\n",
    "#a_c = 0\n",
    "#N_end = 3.0"
   ]
  },
  {
   "cell_type": "code",
   "execution_count": 2,
   "metadata": {},
   "outputs": [],
   "source": [
    "from ipywidgets import widgets\n",
    "from ipywidgets import interact"
   ]
  },
  {
   "cell_type": "code",
   "execution_count": 1,
   "metadata": {},
   "outputs": [],
   "source": [
    "def interactive_tau_u_plot():\n",
    "    @interact(i_zeta=widgets.IntSlider(min=0, max=250, value=50, step=5, description='$\\zeta$ (1/100):'),\n",
    "              i_eta = widgets.IntSlider(min=5, max=505, value=5, step=10, description='$\\eta$ (1/100):'),\n",
    "              i_u0=widgets.IntSlider(min=-25, max=25, value=10, step=1, description='$u_0$ (1/10):'),\n",
    "              i_v0=widgets.IntSlider(min=-25, max=25, value=0, step=1, description='$v_0$:(1/10) '),\n",
    "              i_as = widgets.IntSlider(min=-25, max=25, value=0, step=1, description='$a_s$ (1/10):'),\n",
    "              i_ac = widgets.IntSlider(min=-25, max=25, value=0, step=1, description='$a_c$ (1/10):'),\n",
    "              i_Nend = widgets.IntSlider(min=1, max=50, value=5, step=1, description='$\\\\tau_{end}$ (T):')\n",
    "             )\n",
    "\n",
    "    def plot_now(i_zeta, i_eta, i_u0, i_v0, i_as, i_ac, i_Nend):\n",
    "        zeta = i_zeta/100.0\n",
    "        eta = i_eta/100.0\n",
    "        u_0 = i_u0/10.0\n",
    "        v_0 = i_v0/10.0\n",
    "        a_s = i_as/10.0\n",
    "        a_c = i_ac/10.0\n",
    "        N_end = i_Nend\n",
    "        \n",
    "        a = lambda tau: a_c*np.cos(eta*tau) + a_s*np.sin(eta*tau)    \n",
    "\n",
    "        [u_c, u_s, V, psi] = steady_state_solution(eta, 1.0, zeta, a_c, a_s)\n",
    "        up = lambda tau: u_c*np.cos(eta*tau) + u_s*np.sin(eta*tau)\n",
    "        vp = lambda tau: (-u_c*np.sin(eta*tau) + u_s*np.cos(eta*tau)) * eta\n",
    "     \n",
    "        if zeta < 1:\n",
    "            omega_1 = omega_0*np.sqrt(1-zeta**2)\n",
    "            delta = omega_0*zeta\n",
    "            uh_1 = lambda tau: np.exp(-delta*tau)*np.cos(omega_1*tau)\n",
    "            uh_2 = lambda tau: np.exp(-delta*tau)*np.sin(omega_1*tau)\n",
    "            vh_1 = lambda tau: np.exp(-delta*tau)*( -delta*np.cos(omega_1*tau) - omega_1*np.sin(omega_1*tau) )\n",
    "            vh_2 = lambda tau: np.exp(-delta*tau)*( -delta*np.sin(omega_1*tau) + omega_1*np.cos(omega_1*tau) )\n",
    "        elif zeta > 1:\n",
    "            delta_1 = zeta - np.sqrt(zeta**2 - 1)\n",
    "            delta_2 = zeta + np.sqrt(zeta**2 - 1)\n",
    "            uh_1 = lambda tau: np.exp(-delta_1*tau)\n",
    "            uh_2 = lambda tau: np.exp(-delta_2*tau)\n",
    "            vh_1 = lambda tau: np.exp(-delta_1*tau)*(-delta_1)\n",
    "            vh_2 = lambda tau: np.exp(-delta_2*tau)*(-delta_2)\n",
    "        else:\n",
    "            delta = zeta\n",
    "            uh_1 = lambda tau: np.exp(-delta*tau)\n",
    "            uh_2 = lambda tau: tau*np.exp(-delta*tau)\n",
    "            vh_1 = lambda tau:-np.exp(-delta*tau)*delta\n",
    "            vh_2 = lambda tau: np.exp(-delta*tau) - tau*np.exp(-delta*tau)*delta     \n",
    "        [C_1, C_2] = transient_solution(0.0, u_0, v_0)\n",
    "        uh = lambda tau: C_1*uh_1(tau) + C_2*uh_2(tau) \n",
    "        u = lambda tau:  uh(tau) + up(tau)        \n",
    "        \n",
    "        tau_end = N_end*2*np.pi\n",
    "        tau_sample = np.linspace(0, tau_end , N_end*50)   # discretization with 250 points in time\n",
    "        a_sample = a(tau_sample)\n",
    "        uh_sample = uh(tau_sample)\n",
    "        up_sample = up(tau_sample)\n",
    "        u_sample = u(tau_sample)\n",
    "\n",
    "        #plt.plot(t_sample, uh_sample, 'b--', t_sample, up_sample, 'b:', t_sample, u_sample, 'b');\n",
    "        fig, ax1 = plt.subplots()\n",
    "        plt.box(on=True)\n",
    "        color = 'tab:blue'\n",
    "        ax1.set_xlabel('$\\\\tau$')\n",
    "        ax1.set_ylabel('$u$', color=color)\n",
    "        ax1.plot(tau_sample, u_sample, color=color)\n",
    "        ax1.tick_params(axis='y', labelcolor=color)\n",
    "        ax2 = ax1.twinx()  # instantiate a second axes that shares the same x-axis\n",
    "        color = 'tab:red'\n",
    "        ax2.spines['right'].set_visible(True)\n",
    "        ax2.spines['top'].set_visible(True)\n",
    "        ax2.set_ylabel('$a$', color=color)  # we already handled the x-label with ax1\n",
    "        ax2.plot(tau_sample, a_sample, color=color)\n",
    "        ax2.tick_params(axis='y', labelcolor=color) \n",
    "        fig.tight_layout()  # otherwise the right y-label is slightly clipped\n",
    "        plt.show()"
   ]
  },
  {
   "cell_type": "code",
   "execution_count": null,
   "metadata": {},
   "outputs": [],
   "source": []
  }
 ],
 "metadata": {
  "kernelspec": {
   "display_name": "Python 3",
   "language": "python",
   "name": "python3"
  },
  "language_info": {
   "codemirror_mode": {
    "name": "ipython",
    "version": 3
   },
   "file_extension": ".py",
   "mimetype": "text/x-python",
   "name": "python",
   "nbconvert_exporter": "python",
   "pygments_lexer": "ipython3",
   "version": "3.8.5"
  }
 },
 "nbformat": 4,
 "nbformat_minor": 4
}
