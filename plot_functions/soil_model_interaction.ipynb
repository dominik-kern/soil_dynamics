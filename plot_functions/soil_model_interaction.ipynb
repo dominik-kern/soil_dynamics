{
 "cells": [
  {
   "cell_type": "code",
   "execution_count": 1,
   "metadata": {},
   "outputs": [],
   "source": [
    "def interactive_tau_gamma_plot():\n",
    "    @interact(i_g2gr=widgets.IntSlider(min=0, max=15, value=2, step=1, description='$\\gamma/\\gamma_r$:')\n",
    "             )             \n",
    "\n",
    "    def plot_now(i_g2gr):\n",
    "        backbone = lambda G2GR: G2GR/(1+np.abs(G2GR)) # sceleton curve\n",
    "        delta_stress = lambda DELTA_G2GR: DELTA_G2GR/(1+np.abs(DELTA_G2GR)/2)  # like backbone for delta ga with modified reference strain\n",
    "\n",
    "        N=100\n",
    "        t_v = np.linspace(0.0, 1.0, N)   # unit frequency, no effect since rate-independent\n",
    "        dt = t_v[1] - t_v[0]\n",
    "        ga_v = i_g2gr*np.cos(2*np.pi*t_v) # prescibed strain of one cycle (nondimensional)\n",
    "        tau_masing = np.zeros(N)      # stress (nondimensional) \n",
    "        ga_c = ga_v[0] # initial state assumed in a reversal point \n",
    "        tau_c = backbone(ga_c) # initial stress\n",
    "        loaddir = -np.sign(ga_c) # initial loading direction\n",
    "        \n",
    "        for i,t in enumerate(t_v):\n",
    "            delta_ga = ga_v[i] - ga_c\n",
    "            tau_masing[i] = tau_c + delta_stress(delta_ga)\n",
    "            if i<(N-1):\n",
    "                next_dir = np.sign(ga_v[i+1]-ga_v[i])\n",
    "                if loaddir != next_dir and next_dir != 0:\n",
    "                    loaddir = next_dir\n",
    "                    tau_c = tau_masing[i]\n",
    "                    ga_c = ga_v[i]\n",
    "\n",
    "        ga_backbone = np.linspace(-15.5, 15.5)\n",
    "        tau_backbone = backbone(ga_backbone)\n",
    "        plt.plot(ga_backbone, tau_backbone, 'k--', ga_v, tau_masing, 'b')\n",
    "        plt.xlabel(\"$\\gamma/\\gamma_r$\")\n",
    "        plt.ylabel(\"$\\\\tau/\\\\tau_m$\")\n",
    "        plt.show()"
   ]
  }
 ],
 "metadata": {
  "kernelspec": {
   "display_name": "Python 3",
   "language": "python",
   "name": "python3"
  },
  "language_info": {
   "codemirror_mode": {
    "name": "ipython",
    "version": 3
   },
   "file_extension": ".py",
   "mimetype": "text/x-python",
   "name": "python",
   "nbconvert_exporter": "python",
   "pygments_lexer": "ipython3",
   "version": "3.8.5"
  }
 },
 "nbformat": 4,
 "nbformat_minor": 4
}
