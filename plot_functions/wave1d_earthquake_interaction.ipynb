{
 "cells": [
  {
   "cell_type": "code",
   "execution_count": 2,
   "metadata": {},
   "outputs": [],
   "source": [
    "def interactive_earthquake_plot():\n",
    "    @interact(i_t=widgets.IntSlider(min=0, max=100, value=50, step=10, description='$t/T$: [%]'),\n",
    "              i_f=widgets.IntSlider(min=1, max=101, value=1, step=5, description='$f$ [Hz]:'),\n",
    "              i_d=widgets.IntSlider(min=0, max=100, value=0, step=5, description='$d/h$: [%]')\n",
    "             )\n",
    "\n",
    "    def plot_now(i_t, i_f, i_d):\n",
    "        # example\n",
    "        CENT = 100  # for perCENT\n",
    "        c_n = 150.0   \n",
    "        f_n = i_f\n",
    "        omega_n = 2*np.pi*f_n # first eigenfrequency f=79.057\n",
    "        T_n = 1/f_n\n",
    "        kappa_n = omega_n/c_n\n",
    "        c2_n = 3000.0\n",
    "        kappa2_n = omega_n/c2_n\n",
    "        L_n = 2*np.pi/kappa2_n\n",
    "        h_n = 10.0\n",
    "        d_n = (i_d/CENT)*h_n \n",
    "        u0_n = 0.1\n",
    "        print(\"f0 f1 f2\")\n",
    "        \n",
    "        example = [ (c, c_n), (omega, omega_n), (kappa, kappa_n), (kappa2, kappa2_n), (h, h_n), (d, d_n), (u0, u0_n) ]\n",
    "        w_example = sp.lambdify((x, z, t), wsol.subs(example), modules='numpy' )\n",
    "        \n",
    "        N = 50\n",
    "        z_n = np.linspace(0, h_n, N)\n",
    "        t_n = (i_t/CENT)*T_n\n",
    "        scale_factor=(L_n/u0_n)*1e-3\n",
    "        \n",
    "        Columns = 10\n",
    "        for C in np.arange(Columns+1):\n",
    "            X = (C/Columns)*L_n\n",
    "            w_n = w_example(X, z_n, t_n)*scale_factor     \n",
    "            plt.plot([X, X], [0, -h_n], 'k--', X+w_n, -z_n, 'k')\n",
    "        \n",
    "        plt.xlabel('$x$')\n",
    "        plt.ylabel('$z$')\n",
    "        plt.show()\n",
    "        "
   ]
  },
  {
   "cell_type": "code",
   "execution_count": null,
   "metadata": {},
   "outputs": [],
   "source": []
  }
 ],
 "metadata": {
  "kernelspec": {
   "display_name": "Python 3",
   "language": "python",
   "name": "python3"
  },
  "language_info": {
   "codemirror_mode": {
    "name": "ipython",
    "version": 3
   },
   "file_extension": ".py",
   "mimetype": "text/x-python",
   "name": "python",
   "nbconvert_exporter": "python",
   "pygments_lexer": "ipython3",
   "version": "3.8.5"
  }
 },
 "nbformat": 4,
 "nbformat_minor": 4
}
