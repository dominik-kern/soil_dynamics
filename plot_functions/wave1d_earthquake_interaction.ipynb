{
 "cells": [
  {
   "cell_type": "code",
   "execution_count": 2,
   "metadata": {},
   "outputs": [],
   "source": [
    "def interactive_earthquake_plot():\n",
    "    @interact(i_t=widgets.IntSlider(min=0, max=100, value=0, step=5, description='$t/T$: [%]'),\n",
    "              i_f=widgets.IntSlider(min=1, max=101, value=1, step=5, description='$f$ [Hz]:'),\n",
    "              i_d=widgets.IntSlider(min=0, max=100, value=0, step=5, description='$d/h$: [%]')\n",
    "             )\n",
    "\n",
    "    def plot_now(i_t, i_f, i_d):\n",
    "        # example\n",
    "        c_n = 150.0   \n",
    "        f_n = i_f\n",
    "        omega_n = 2*np.pi*f_n # first eigenfrequency f=79.057\n",
    "        T_n = 1/f_n\n",
    "        kappa_n = omega_n/c_n\n",
    "        c2_n = 3000.0\n",
    "        kappa2_n = omega_n/c2_n\n",
    "        L_n = 2*np.pi/kappa2_n\n",
    "        h_n = 10.0\n",
    "        d_n = (i_d/100)*h_n \n",
    "        u0_n = 0.1\n",
    "        \n",
    "        example = [ (c, c_n), (omega, omega_n), (kappa, kappa_n), (kappa2, kappa2_n), (h, h_n), (d, d_n), (u0, u0_n) ]\n",
    "        w_example = sp.lambdify((x, z, t), wsol.subs(example), modules='numpy' )\n",
    "\n",
    "        z_n = np.linspace(0, h_n)\n",
    "        t_n = (i_t/100)*T_n\n",
    "        L0 = 0.0*L_n\n",
    "        L1 = 0.1*L_n\n",
    "        L2 = 0.2*L_n\n",
    "        scale_factor=10\n",
    "        w0 = L0 + w_example(L0, z_n, t_n)*scale_factor\n",
    "        w1 = L1 + w_example(L1, z_n, t_n)*scale_factor\n",
    "        w2 = L2 + w_example(L2, z_n, t_n)*scale_factor\n",
    "        \n",
    "        plt.plot([L0, L0], [0, h_n], 'k--', w0, z_n, 'k',[L1, L1], [0, h_n], 'k--', w1, z_n, 'k', [L2, L2], [0, h_n], 'k--', w2, z_n, 'k'  ) # plot w(x,z), variable t, d, omega\n",
    "        plt.show()"
   ]
  },
  {
   "cell_type": "code",
   "execution_count": null,
   "metadata": {},
   "outputs": [],
   "source": []
  }
 ],
 "metadata": {
  "kernelspec": {
   "display_name": "Python 3",
   "language": "python",
   "name": "python3"
  },
  "language_info": {
   "codemirror_mode": {
    "name": "ipython",
    "version": 3
   },
   "file_extension": ".py",
   "mimetype": "text/x-python",
   "name": "python",
   "nbconvert_exporter": "python",
   "pygments_lexer": "ipython3",
   "version": "3.8.5"
  }
 },
 "nbformat": 4,
 "nbformat_minor": 4
}
