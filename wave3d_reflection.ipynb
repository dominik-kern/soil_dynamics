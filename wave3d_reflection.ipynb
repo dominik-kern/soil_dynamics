{
 "cells": [
  {
   "cell_type": "markdown",
   "metadata": {
    "deletable": false,
    "editable": false
   },
   "source": [
    "![Logo TUBAF](https://tu-freiberg.de/sites/default/files/media/freiberger-alumni-netzwerk-6127/wbm_orig_rgb_0.jpg)\n",
    "\n",
    "Exercise material of the MSc-level course **Soil Dynamics**.\n",
    "Held at Technische Universität Bergakademie Freiberg.\n",
    "\n",
    "Comments to:\n",
    "\n",
    "*Prof. Dr. Thomas Nagel  \n",
    "Chair of Soil Mechanics and Foundation Engineering  \n",
    "Geotechnical Institute  \n",
    "Technische Universität Bergakademie Freiberg.*\n",
    "\n",
    "https://tu-freiberg.de/en/fakultaet3/gt/soilmechanics\n"
   ]
  },
  {
   "cell_type": "markdown",
   "metadata": {},
   "source": [
    "# Elastodynamik 3D"
   ]
  },
  {
   "cell_type": "markdown",
   "metadata": {},
   "source": [
    "Module laden"
   ]
  },
  {
   "cell_type": "code",
   "execution_count": 1,
   "metadata": {},
   "outputs": [],
   "source": [
    "import sympy as sp\n",
    "import numpy as np\n",
    "import matplotlib.pyplot as plt\n",
    "from ipywidgets import widgets\n",
    "from ipywidgets import interact\n",
    "from sympy.interactive import printing\n",
    "import plot_functions.plot_settings\n",
    "%run plot_functions/wave3d_reflection_interaction.ipynb\n",
    "printing.init_printing()\n",
    "%load_ext ipydex.displaytools"
   ]
  },
  {
   "cell_type": "markdown",
   "metadata": {},
   "source": [
    "_Last line enables special comment **##:** for LaTeX formatting of output_ "
   ]
  },
  {
   "cell_type": "markdown",
   "metadata": {},
   "source": [
    "## Reflexion einer P-Welle am freien Rand"
   ]
  },
  {
   "cell_type": "markdown",
   "metadata": {},
   "source": [
    "![wave3d_freeBC.svg](https://github.com/nagelt/soil_dynamics/raw/master/Images/wave3d_freeBC.svg)"
   ]
  },
  {
   "cell_type": "markdown",
   "metadata": {},
   "source": [
    "Variablen für symbolische Rechnung (sympy) deklarieren"
   ]
  },
  {
   "cell_type": "code",
   "execution_count": 2,
   "metadata": {},
   "outputs": [],
   "source": [
    "mu, Lambda, alpha, beta, AP_in, AP_re, AS_re, kappa_P, kappa_S, c_P, c_S, x,y,z,t = sp.symbols('mu Lambda alpha beta AP_in AP_re AS_re kappa_P kappa_S c_P c_S x y z t')"
   ]
  },
  {
   "cell_type": "markdown",
   "metadata": {},
   "source": [
    "Phasen der einfallenden P-Welle, der reflektierten P-Welle und der reflektierten SH-Welle"
   ]
  },
  {
   "cell_type": "code",
   "execution_count": 3,
   "metadata": {},
   "outputs": [],
   "source": [
    "phase_Pin = sp.I*kappa_P*(x*sp.sin(alpha) + y*sp.cos(alpha) - c_P*t)\n",
    "phase_Pre = sp.I*kappa_P*(x*sp.sin(alpha) - y*sp.cos(alpha) - c_P*t)\n",
    "phase_Sre = sp.I*kappa_S*(x*sp.sin( beta) - y*sp.cos( beta) - c_S*t)"
   ]
  },
  {
   "cell_type": "markdown",
   "metadata": {},
   "source": [
    "Komplexe Darstellung der Wellenausbreitung aller drei Wellen"
   ]
  },
  {
   "cell_type": "code",
   "execution_count": 4,
   "metadata": {},
   "outputs": [],
   "source": [
    "eP_in = AP_in * sp.exp(phase_Pin)\n",
    "eP_re = AP_re * sp.exp(phase_Pre)\n",
    "eS_re = AS_re * sp.exp(phase_Sre)"
   ]
  },
  {
   "cell_type": "markdown",
   "metadata": {},
   "source": [
    "Veschiebungen (x,y) der drei Wellenfelder"
   ]
  },
  {
   "cell_type": "code",
   "execution_count": 5,
   "metadata": {},
   "outputs": [],
   "source": [
    "uP_in = sp.sin(alpha) * eP_in\n",
    "uP_re = sp.sin(alpha) * eP_re\n",
    "uS_re = sp.cos( beta) * eS_re"
   ]
  },
  {
   "cell_type": "code",
   "execution_count": 6,
   "metadata": {},
   "outputs": [],
   "source": [
    "vP_in = sp.cos(alpha) * eP_in\n",
    "vP_re =-sp.cos(alpha) * eP_re\n",
    "vS_re = sp.sin( beta) * eS_re"
   ]
  },
  {
   "cell_type": "markdown",
   "metadata": {},
   "source": [
    "resulting stresses relevant for reflection"
   ]
  },
  {
   "cell_type": "code",
   "execution_count": 7,
   "metadata": {},
   "outputs": [],
   "source": [
    "sigma_xy_Pin = mu*( sp.diff(uP_in, y) + sp.diff(vP_in, x) )\n",
    "sigma_xy_Pre = mu*( sp.diff(uP_re, y) + sp.diff(vP_re, x) )\n",
    "sigma_xy_Sre = mu*( sp.diff(uS_re, y) + sp.diff(vS_re, x) )"
   ]
  },
  {
   "cell_type": "code",
   "execution_count": 8,
   "metadata": {},
   "outputs": [],
   "source": [
    "sigma_yy_Pin = (2*mu+Lambda)*sp.diff(vP_in, y) + Lambda*sp.diff(uP_in, x)\n",
    "sigma_yy_Pre = (2*mu+Lambda)*sp.diff(vP_re, y) + Lambda*sp.diff(uP_re, x)\n",
    "sigma_yy_Sre = (2*mu+Lambda)*sp.diff(vS_re, y) + Lambda*sp.diff(uS_re, x)"
   ]
  },
  {
   "cell_type": "markdown",
   "metadata": {},
   "source": [
    "Spannungen $\\sigma_{xy}$ und $\\sigma_{yy}$, die relevant für die Reflexion sind"
   ]
  },
  {
   "cell_type": "code",
   "execution_count": 9,
   "metadata": {},
   "outputs": [],
   "source": [
    "sigma_xy_BC = sp.simplify( sigma_xy_Pin*sp.exp(-phase_Pin)/sp.I + sigma_xy_Pre*sp.exp(-phase_Pre)/sp.I + sigma_xy_Sre*sp.exp(-phase_Sre)/sp.I)\n",
    "sigma_yy_BC = sp.simplify( sigma_yy_Pin*sp.exp(-phase_Pin)/sp.I + sigma_yy_Pre*sp.exp(-phase_Pre)/sp.I + sigma_yy_Sre*sp.exp(-phase_Sre)/sp.I)"
   ]
  },
  {
   "cell_type": "code",
   "execution_count": 10,
   "metadata": {},
   "outputs": [
    {
     "data": {
      "image/png": "[encoded data removed]",
      "text/latex": [
       "$\\displaystyle \\mu \\left(AP_{in} \\kappa_{P} \\sin{\\left(2 \\alpha \\right)} - AP_{re} \\kappa_{P} \\sin{\\left(2 \\alpha \\right)} - AS_{re} \\kappa_{S} \\cos{\\left(2 \\beta \\right)}\\right)$"
      ],
      "text/plain": [
       "μ⋅(APᵢₙ⋅κ_P⋅sin(2⋅α) - APᵣₑ⋅κ_P⋅sin(2⋅α) - ASᵣₑ⋅κ_S⋅cos(2⋅β))"
      ]
     },
     "metadata": {},
     "output_type": "display_data"
    },
    {
     "data": {
      "image/png": "[encoded data removed]",
      "text/latex": [
       "$\\displaystyle AP_{in} \\kappa_{P} \\left(\\Lambda + 2 \\mu \\cos^{2}{\\left(\\alpha \\right)}\\right) + AP_{re} \\kappa_{P} \\left(\\Lambda + 2 \\mu \\cos^{2}{\\left(\\alpha \\right)}\\right) - AS_{re} \\kappa_{S} \\mu \\sin{\\left(2 \\beta \\right)}$"
      ],
      "text/plain": [
       "         ⎛           2   ⎞            ⎛           2   ⎞                      \n",
       "APᵢₙ⋅κ_P⋅⎝Λ + 2⋅μ⋅cos (α)⎠ + APᵣₑ⋅κ_P⋅⎝Λ + 2⋅μ⋅cos (α)⎠ - ASᵣₑ⋅κ_S⋅μ⋅sin(2⋅β)"
      ]
     },
     "metadata": {},
     "output_type": "display_data"
    }
   ],
   "source": [
    "display(sigma_xy_BC)\n",
    "display(sigma_yy_BC)"
   ]
  },
  {
   "cell_type": "markdown",
   "metadata": {},
   "source": [
    "Gleichungssystem der Randbedingungen (freier Rand) nach den Amplituden der reflektierten Wellen lösen"
   ]
  },
  {
   "cell_type": "code",
   "execution_count": 11,
   "metadata": {},
   "outputs": [
    {
     "data": {
      "image/png": "[encoded data removed]",
      "text/latex": [
       "$\\displaystyle \\left\\{ AP_{re} : - \\frac{AP_{in} \\Lambda \\cos{\\left(2 \\beta \\right)}}{\\Lambda \\cos{\\left(2 \\beta \\right)} + \\mu \\sin{\\left(2 \\alpha \\right)} \\sin{\\left(2 \\beta \\right)} + 2 \\mu \\cos^{2}{\\left(\\alpha \\right)} \\cos{\\left(2 \\beta \\right)}} + \\frac{AP_{in} \\mu \\sin{\\left(2 \\alpha \\right)} \\sin{\\left(2 \\beta \\right)}}{\\Lambda \\cos{\\left(2 \\beta \\right)} + \\mu \\sin{\\left(2 \\alpha \\right)} \\sin{\\left(2 \\beta \\right)} + 2 \\mu \\cos^{2}{\\left(\\alpha \\right)} \\cos{\\left(2 \\beta \\right)}} - \\frac{2 AP_{in} \\mu \\cos^{2}{\\left(\\alpha \\right)} \\cos{\\left(2 \\beta \\right)}}{\\Lambda \\cos{\\left(2 \\beta \\right)} + \\mu \\sin{\\left(2 \\alpha \\right)} \\sin{\\left(2 \\beta \\right)} + 2 \\mu \\cos^{2}{\\left(\\alpha \\right)} \\cos{\\left(2 \\beta \\right)}}, \\  AS_{re} : \\frac{2 AP_{in} \\Lambda \\kappa_{P} \\sin{\\left(2 \\alpha \\right)}}{\\Lambda \\kappa_{S} \\cos{\\left(2 \\beta \\right)} + \\kappa_{S} \\mu \\sin{\\left(2 \\alpha \\right)} \\sin{\\left(2 \\beta \\right)} + 2 \\kappa_{S} \\mu \\cos^{2}{\\left(\\alpha \\right)} \\cos{\\left(2 \\beta \\right)}} + \\frac{4 AP_{in} \\kappa_{P} \\mu \\sin{\\left(2 \\alpha \\right)} \\cos^{2}{\\left(\\alpha \\right)}}{\\Lambda \\kappa_{S} \\cos{\\left(2 \\beta \\right)} + \\kappa_{S} \\mu \\sin{\\left(2 \\alpha \\right)} \\sin{\\left(2 \\beta \\right)} + 2 \\kappa_{S} \\mu \\cos^{2}{\\left(\\alpha \\right)} \\cos{\\left(2 \\beta \\right)}}\\right\\}$"
      ],
      "text/plain": [
       "⎧                                                                             \n",
       "⎪                            APᵢₙ⋅Λ⋅cos(2⋅β)                                  \n",
       "⎨APᵣₑ: - ─────────────────────────────────────────────────────── + ───────────\n",
       "⎪                                                  2                          \n",
       "⎩        Λ⋅cos(2⋅β) + μ⋅sin(2⋅α)⋅sin(2⋅β) + 2⋅μ⋅cos (α)⋅cos(2⋅β)   Λ⋅cos(2⋅β) \n",
       "\n",
       "                                                                          2   \n",
       "     APᵢₙ⋅μ⋅sin(2⋅α)⋅sin(2⋅β)                                 2⋅APᵢₙ⋅μ⋅cos (α)\n",
       "──────────────────────────────────────────── - ───────────────────────────────\n",
       "                               2                                              \n",
       "+ μ⋅sin(2⋅α)⋅sin(2⋅β) + 2⋅μ⋅cos (α)⋅cos(2⋅β)   Λ⋅cos(2⋅β) + μ⋅sin(2⋅α)⋅sin(2⋅β\n",
       "\n",
       "                                                                              \n",
       "⋅cos(2⋅β)                                              2⋅APᵢₙ⋅Λ⋅κ_P⋅sin(2⋅α)  \n",
       "────────────────────────, ASᵣₑ: ──────────────────────────────────────────────\n",
       "           2                                                                  \n",
       ") + 2⋅μ⋅cos (α)⋅cos(2⋅β)        Λ⋅κ_S⋅cos(2⋅β) + κ_S⋅μ⋅sin(2⋅α)⋅sin(2⋅β) + 2⋅κ\n",
       "\n",
       "                                                                    2         \n",
       "                                           4⋅APᵢₙ⋅κ_P⋅μ⋅sin(2⋅α)⋅cos (α)      \n",
       "───────────────────── + ──────────────────────────────────────────────────────\n",
       "        2                                                                     \n",
       "_S⋅μ⋅cos (α)⋅cos(2⋅β)   Λ⋅κ_S⋅cos(2⋅β) + κ_S⋅μ⋅sin(2⋅α)⋅sin(2⋅β) + 2⋅κ_S⋅μ⋅cos\n",
       "\n",
       "             ⎫\n",
       "             ⎪\n",
       "─────────────⎬\n",
       "2            ⎪\n",
       " (α)⋅cos(2⋅β)⎭"
      ]
     },
     "metadata": {},
     "output_type": "display_data"
    }
   ],
   "source": [
    "solution = sp.solve( [sigma_xy_BC, sigma_yy_BC], [AP_re, AS_re] )\n",
    "display(solution)"
   ]
  },
  {
   "cell_type": "markdown",
   "metadata": {},
   "source": [
    "Grafische Darstellung der Reflexion"
   ]
  },
  {
   "cell_type": "code",
   "execution_count": 12,
   "metadata": {},
   "outputs": [
    {
     "data": {
      "application/vnd.jupyter.widget-view+json": {
       "model_id": "31db587f0f1840f7a0d06ac97fd333dc",
       "version_major": 2,
       "version_minor": 0
      },
      "text/plain": [
       "interactive(children=(IntSlider(value=45, description='$\\\\alpha$ [°]:', max=90), IntSlider(value=25, descripti…"
      ]
     },
     "metadata": {},
     "output_type": "display_data"
    }
   ],
   "source": [
    "interactive_reflection_plot()  "
   ]
  },
  {
   "cell_type": "markdown",
   "metadata": {},
   "source": [
    "Frage: In welchem Fall wird nur eine P-Welle reflektiert und in welchem nur eine S-Welle?"
   ]
  }
 ],
 "metadata": {
  "kernelspec": {
   "display_name": "Python 3",
   "language": "python",
   "name": "python3"
  },
  "language_info": {
   "codemirror_mode": {
    "name": "ipython",
    "version": 3
   },
   "file_extension": ".py",
   "mimetype": "text/x-python",
   "name": "python",
   "nbconvert_exporter": "python",
   "pygments_lexer": "ipython3",
   "version": "3.8.6"
  }
 },
 "nbformat": 4,
 "nbformat_minor": 4
}
