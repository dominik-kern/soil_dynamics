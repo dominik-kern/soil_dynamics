{
 "cells": [
  {
   "cell_type": "markdown",
   "metadata": {
    "deletable": false,
    "editable": false
   },
   "source": [
    "![Logo TUBAF](https://tu-freiberg.de/sites/default/files/media/freiberger-alumni-netzwerk-6127/wbm_orig_rgb_0.jpg)\n",
    "\n",
    "Exercise material of the MSc-level course **Soil Dynamics**.\n",
    "Held at Technische Universität Bergakademie Freiberg.\n",
    "\n",
    "Comments to:\n",
    "\n",
    "*Prof. Dr. Thomas Nagel  \n",
    "Chair of Soil Mechanics and Foundation Engineering  \n",
    "Geotechnical Institute  \n",
    "Technische Universität Bergakademie Freiberg.*\n",
    "\n",
    "https://tu-freiberg.de/en/fakultaet3/gt/soilmechanics\n"
   ]
  },
  {
   "cell_type": "markdown",
   "metadata": {},
   "source": [
    "# Elastodynamik 3D"
   ]
  },
  {
   "cell_type": "markdown",
   "metadata": {},
   "source": [
    "Module laden\n",
    "\n",
    "TODO comment in more detail"
   ]
  },
  {
   "cell_type": "code",
   "execution_count": 1,
   "metadata": {},
   "outputs": [],
   "source": [
    "import sympy as sp\n",
    "import numpy as np\n",
    "import matplotlib.pyplot as plt\n",
    "from ipywidgets import widgets\n",
    "from ipywidgets import interact\n",
    "from sympy.interactive import printing\n",
    "import plot_functions.plot_settings\n",
    "%run plot_functions/wave3d_reflection_interaction.ipynb\n",
    "printing.init_printing()\n",
    "%load_ext ipydex.displaytools"
   ]
  },
  {
   "cell_type": "markdown",
   "metadata": {},
   "source": [
    "_Last line enables special comment **##:** for LaTeX formatting of output_ "
   ]
  },
  {
   "cell_type": "markdown",
   "metadata": {},
   "source": [
    "## Reflexion einer P-Wellen am freien Rand"
   ]
  },
  {
   "cell_type": "markdown",
   "metadata": {},
   "source": [
    "![wave3d_freeBC.svg](https://github.com/nagelt/soil_dynamics/raw/master/Images/wave3d_freeBC.svg)"
   ]
  },
  {
   "cell_type": "markdown",
   "metadata": {},
   "source": [
    "Lösung Amplitudensystem"
   ]
  },
  {
   "cell_type": "code",
   "execution_count": 2,
   "metadata": {},
   "outputs": [],
   "source": [
    "mu, Lambda, alpha, beta, AP_in, AP_re, AS_re, kappa_P, kappa_S, c_P, c_S, x,y,z,t = sp.symbols('mu Lambda alpha beta AP_in AP_re AS_re kappa_P kappa_S c_P c_S x y z t')"
   ]
  },
  {
   "cell_type": "code",
   "execution_count": 3,
   "metadata": {},
   "outputs": [],
   "source": [
    "phase_Pin = sp.I*kappa_P*(x*sp.sin(alpha) + y*sp.cos(alpha) - c_P*t)\n",
    "phase_Pre = sp.I*kappa_P*(x*sp.sin(alpha) - y*sp.cos(alpha) - c_P*t)\n",
    "phase_Sre = sp.I*kappa_S*(x*sp.sin( beta) - y*sp.cos( beta) - c_S*t)"
   ]
  },
  {
   "cell_type": "code",
   "execution_count": 4,
   "metadata": {},
   "outputs": [],
   "source": [
    "eP_in = AP_in * sp.exp(phase_Pin)\n",
    "eP_re = AP_re * sp.exp(phase_Pre)\n",
    "eS_re = AS_re * sp.exp(phase_Sre)"
   ]
  },
  {
   "cell_type": "code",
   "execution_count": 5,
   "metadata": {},
   "outputs": [],
   "source": [
    "uP_in = sp.sin(alpha) * eP_in\n",
    "uP_re = sp.sin(alpha) * eP_re\n",
    "uS_re = sp.cos( beta) * eS_re"
   ]
  },
  {
   "cell_type": "code",
   "execution_count": 6,
   "metadata": {},
   "outputs": [],
   "source": [
    "vP_in = sp.cos(alpha) * eP_in\n",
    "vP_re =-sp.cos(alpha) * eP_re\n",
    "vS_re = sp.sin( beta) * eS_re"
   ]
  },
  {
   "cell_type": "code",
   "execution_count": 7,
   "metadata": {},
   "outputs": [],
   "source": [
    "sigma_xy_Pin = mu*( sp.diff(uP_in, y) + sp.diff(vP_in, x) )\n",
    "sigma_xy_Pre = mu*( sp.diff(uP_re, y) + sp.diff(vP_re, x) )\n",
    "sigma_xy_Sre = mu*( sp.diff(uS_re, y) + sp.diff(vS_re, x) )"
   ]
  },
  {
   "cell_type": "code",
   "execution_count": 8,
   "metadata": {},
   "outputs": [],
   "source": [
    "sigma_yy_Pin = (2*mu+Lambda)*sp.diff(vP_in, y) + Lambda*sp.diff(uP_in, x)\n",
    "sigma_yy_Pre = (2*mu+Lambda)*sp.diff(vP_re, y) + Lambda*sp.diff(uP_re, x)\n",
    "sigma_yy_Sre = (2*mu+Lambda)*sp.diff(vS_re, y) + Lambda*sp.diff(uS_re, x)"
   ]
  },
  {
   "cell_type": "code",
   "execution_count": 9,
   "metadata": {},
   "outputs": [],
   "source": [
    "#sigma_xy_BC = sp.simplify( sigma_xy_Pin*sp.exp(-phase_Pin)/sp.I + sigma_xy_Pre*sp.exp(-phase_Pre)/sp.I + sigma_xy_Sre*sp.exp(-phase_Sre)/sp.I)\n",
    "#sigma_yy_BC = sp.simplify( sigma_yy_Pin*sp.exp(-phase_Pin)/sp.I + sigma_yy_Pre*sp.exp(-phase_Pre)/sp.I + sigma_yy_Sre*sp.exp(-phase_Sre)/sp.I)"
   ]
  },
  {
   "cell_type": "code",
   "execution_count": 10,
   "metadata": {},
   "outputs": [],
   "source": [
    "#display(sigma_xy_BC)\n",
    "#display(sigma_yy_BC)"
   ]
  },
  {
   "cell_type": "code",
   "execution_count": 11,
   "metadata": {},
   "outputs": [],
   "source": [
    "#solution = sp.solve( [sigma_xy_BC, sigma_yy_BC], [AP_re, AS_re] )\n",
    "#display(solution)"
   ]
  },
  {
   "cell_type": "code",
   "execution_count": 12,
   "metadata": {},
   "outputs": [
    {
     "data": {
      "application/vnd.jupyter.widget-view+json": {
       "model_id": "62a154b59d144556bab13c2c089eb972",
       "version_major": 2,
       "version_minor": 0
      },
      "text/plain": [
       "interactive(children=(IntSlider(value=45, description='$\\\\alpha$ [°]:', max=89, min=1, step=2), IntSlider(valu…"
      ]
     },
     "metadata": {},
     "output_type": "display_data"
    }
   ],
   "source": [
    "interactive_reflection_plot()  "
   ]
  },
  {
   "cell_type": "markdown",
   "metadata": {},
   "source": [
    "Frage: Wann Modenumwandlung?"
   ]
  },
  {
   "cell_type": "code",
   "execution_count": null,
   "metadata": {},
   "outputs": [],
   "source": []
  }
 ],
 "metadata": {
  "kernelspec": {
   "display_name": "Python 3",
   "language": "python",
   "name": "python3"
  },
  "language_info": {
   "codemirror_mode": {
    "name": "ipython",
    "version": 3
   },
   "file_extension": ".py",
   "mimetype": "text/x-python",
   "name": "python",
   "nbconvert_exporter": "python",
   "pygments_lexer": "ipython3",
   "version": "3.8.5"
  }
 },
 "nbformat": 4,
 "nbformat_minor": 4
}
