{
 "cells": [
  {
   "cell_type": "markdown",
   "metadata": {
    "deletable": false,
    "editable": false
   },
   "source": [
    "![Logo TUBAF](https://tu-freiberg.de/sites/default/files/media/freiberger-alumni-netzwerk-6127/wbm_orig_rgb_0.jpg)\n",
    "\n",
    "Exercise material of the MSc-level course **Soil Dynamics**.\n",
    "Held at Technische Universität Bergakademie Freiberg.\n",
    "\n",
    "Comments to:\n",
    "\n",
    "*Prof. Dr. Thomas Nagel  \n",
    "Chair of Soil Mechanics and Foundation Engineering  \n",
    "Geotechnical Institute  \n",
    "Technische Universität Bergakademie Freiberg.*\n",
    "\n",
    "https://tu-freiberg.de/en/fakultaet3/gt/soilmechanics\n"
   ]
  },
  {
   "cell_type": "markdown",
   "metadata": {},
   "source": [
    "# Erdbebenwirkung in weichen Bodenschichten"
   ]
  },
  {
   "cell_type": "markdown",
   "metadata": {},
   "source": [
    "Module laden"
   ]
  },
  {
   "cell_type": "code",
   "execution_count": 1,
   "metadata": {},
   "outputs": [],
   "source": [
    "import sympy as sp\n",
    "import numpy as np\n",
    "import matplotlib.pyplot as plt\n",
    "from ipywidgets import widgets\n",
    "from ipywidgets import interact\n",
    "from sympy.interactive import printing\n",
    "import plot_functions.plot_settings\n",
    "%run plot_functions/wave1d_earthquake_interaction.ipynb\n",
    "printing.init_printing()\n",
    "%load_ext ipydex.displaytools"
   ]
  },
  {
   "cell_type": "markdown",
   "metadata": {},
   "source": [
    "_Last line enables special comment **##:** for LaTeX formatting of output_ "
   ]
  },
  {
   "cell_type": "markdown",
   "metadata": {},
   "source": [
    "## Stationärer Zustand"
   ]
  },
  {
   "cell_type": "markdown",
   "metadata": {},
   "source": [
    "TODO Skizze\n",
    "``![wavebar_bc.png](https://github.com/nagelt/soil_dynamics/raw/master/Images/wavebar_bc.png)``"
   ]
  },
  {
   "cell_type": "markdown",
   "metadata": {},
   "source": [
    "Variablen für symbolische Rechnung deklarieren (sympy)"
   ]
  },
  {
   "cell_type": "code",
   "execution_count": 2,
   "metadata": {},
   "outputs": [],
   "source": [
    "kappa, kappa2, c, omega, x, z, t, C1, C2, h, d, u0= sp.symbols('kappa kappa2 c omega x z t C1 C2 h d u0')"
   ]
  },
  {
   "cell_type": "markdown",
   "metadata": {},
   "source": [
    "Ansatz   $w(x,z,t)=f(z)\\sin(\\omega t - \\kappa_2 x)$"
   ]
  },
  {
   "cell_type": "code",
   "execution_count": 3,
   "metadata": {},
   "outputs": [],
   "source": [
    "f = C1*sp.cos(kappa*z) + C2*sp.sin(kappa*z)\n",
    "dfdz = f.diff(z)"
   ]
  },
  {
   "cell_type": "markdown",
   "metadata": {},
   "source": [
    "Koeffizienten $C_1$ und $C_2$ aus den Randbedingungen bestimmen: diskrete Randmasse oben, Verschiebungsverlauf unten."
   ]
  },
  {
   "cell_type": "code",
   "execution_count": 4,
   "metadata": {},
   "outputs": [],
   "source": [
    "BCtop = (c**2)*dfdz.subs(z, 0) + (d*omega**2)\n",
    "BCbottom = f.subs(z, h) - u0\n",
    "BCsol=sp.solve([BCtop, BCbottom], C1, C2)"
   ]
  },
  {
   "cell_type": "markdown",
   "metadata": {},
   "source": [
    "Einsetzen der Lösung"
   ]
  },
  {
   "cell_type": "code",
   "execution_count": 5,
   "metadata": {},
   "outputs": [
    {
     "data": {
      "image/png": "[encoded data removed]",
      "text/latex": [
       "$\\displaystyle - \\frac{\\left(c^{2} \\kappa u_{0} \\cos{\\left(\\kappa z \\right)} + d \\omega^{2} \\sin{\\left(\\kappa \\left(h - z\\right) \\right)}\\right) \\sin{\\left(\\kappa_{2} x - \\omega t \\right)}}{c^{2} \\kappa \\cos{\\left(h \\kappa \\right)}}$"
      ],
      "text/plain": [
       " ⎛ 2                    2               ⎞                 \n",
       "-⎝c ⋅κ⋅u₀⋅cos(κ⋅z) + d⋅ω ⋅sin(κ⋅(h - z))⎠⋅sin(κ₂⋅x - ω⋅t) \n",
       "──────────────────────────────────────────────────────────\n",
       "                       2                                  \n",
       "                      c ⋅κ⋅cos(h⋅κ)                       "
      ]
     },
     "metadata": {},
     "output_type": "display_data"
    },
    {
     "name": "stdout",
     "output_type": "stream",
     "text": [
      "-(c**2*kappa*u0*cos(kappa*z) + d*omega**2*sin(kappa*(h - z)))*sin(kappa2*x - omega*t)/(c**2*kappa*cos(h*kappa))\n"
     ]
    }
   ],
   "source": [
    "fsol = f.subs([(C1, BCsol[C1]), (C2, BCsol[C2])])\n",
    "wsol = sp.simplify(fsol*sp.sin(omega*t - kappa2*x))\n",
    "display(wsol)\n",
    "print(wsol)   # for safety if display fails"
   ]
  },
  {
   "cell_type": "code",
   "execution_count": 6,
   "metadata": {},
   "outputs": [
    {
     "data": {
      "application/vnd.jupyter.widget-view+json": {
       "model_id": "57a47e24e8334d8b8790f965469e1736",
       "version_major": 2,
       "version_minor": 0
      },
      "text/plain": [
       "interactive(children=(IntSlider(value=0, description='$t/T$: [%]', step=5), IntSlider(value=1, description='$f…"
      ]
     },
     "metadata": {},
     "output_type": "display_data"
    }
   ],
   "source": [
    "interactive_earthquake_plot()"
   ]
  },
  {
   "cell_type": "code",
   "execution_count": null,
   "metadata": {},
   "outputs": [],
   "source": []
  }
 ],
 "metadata": {
  "kernelspec": {
   "display_name": "Python 3",
   "language": "python",
   "name": "python3"
  },
  "language_info": {
   "codemirror_mode": {
    "name": "ipython",
    "version": 3
   },
   "file_extension": ".py",
   "mimetype": "text/x-python",
   "name": "python",
   "nbconvert_exporter": "python",
   "pygments_lexer": "ipython3",
   "version": "3.8.5"
  }
 },
 "nbformat": 4,
 "nbformat_minor": 4
}
