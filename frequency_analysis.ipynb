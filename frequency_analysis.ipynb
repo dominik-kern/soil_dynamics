{
 "cells": [
  {
   "cell_type": "markdown",
   "metadata": {
    "deletable": false,
    "editable": false
   },
   "source": [
    "![Logo TUBAF](https://tu-freiberg.de/sites/default/files/media/freiberger-alumni-netzwerk-6127/wbm_orig_rgb_0.jpg)\n",
    "\n",
    "Exercise material of the MSc-level course **Soil Dynamics**.\n",
    "Held at Technische Universität Bergakademie Freiberg.\n",
    "\n",
    "Comments to:\n",
    "\n",
    "*Prof. Dr. Thomas Nagel  \n",
    "Chair of Soil Mechanics and Foundation Engineering  \n",
    "Geotechnical Institute  \n",
    "Technische Universität Bergakademie Freiberg.*\n",
    "\n",
    "https://tu-freiberg.de/en/fakultaet3/gt/soilmechanics\n"
   ]
  },
  {
   "cell_type": "markdown",
   "metadata": {},
   "source": [
    "# Einmassenschwinger, Frequenzanalyse\n",
    "\n",
    "![oscillator1dof.png](https://github.com/nagelt/soil_dynamics/raw/master/Images/oscillator1dof.png)"
   ]
  },
  {
   "cell_type": "markdown",
   "metadata": {},
   "source": [
    "## Hilfsfunktionen"
   ]
  },
  {
   "cell_type": "markdown",
   "metadata": {},
   "source": [
    "Module laden"
   ]
  },
  {
   "cell_type": "code",
   "execution_count": 1,
   "metadata": {},
   "outputs": [],
   "source": [
    "import numpy as np\n",
    "import matplotlib.pyplot as plt\n",
    "from scipy.fft import fft, fftfreq\n",
    "from scipy.signal.windows import hann   "
   ]
  },
  {
   "cell_type": "markdown",
   "metadata": {},
   "source": [
    "Eingeschwungenen Zustand (partikuläre Lösung) berechnen, inklusive Vergrößerungsfunktion und Phasendifferenz"
   ]
  },
  {
   "cell_type": "code",
   "execution_count": 2,
   "metadata": {},
   "outputs": [],
   "source": [
    "def steady_state_solution(omega, omega_0, zeta, a_c, a_s):\n",
    "    eta = omega/omega_0\n",
    "    if eta==1 and zeta==0:   # TODO implement solutions up1(t) and up2(t) for this case as done for uh(t)\n",
    "        print(\"Warning: no steady-state solution for resonant excitation of undamped oscillator!\")\n",
    "        V = 0 \n",
    "        psi = 0\n",
    "        u_c = 0\n",
    "        u_s = 0\n",
    "    else:        \n",
    "        V2 = 1.0/( (1-eta**2)**2 + (2*eta*zeta)**2 )\n",
    "        V = np.sqrt(V2)\n",
    "        psi = np.arctan2(2*zeta*eta, 1-eta**2)\n",
    "        u_c = V2*( (1-eta**2)*a_c - 2*zeta*eta*a_s )\n",
    "        u_s = V2*( (1-eta**2)*a_s + 2*zeta*eta*a_c )\n",
    "    return [u_c, u_s, V, psi]"
   ]
  },
  {
   "cell_type": "markdown",
   "metadata": {},
   "source": [
    "Anpassen der Gesamtlösung an die Anfangsbedingungen"
   ]
  },
  {
   "cell_type": "code",
   "execution_count": 3,
   "metadata": {},
   "outputs": [],
   "source": [
    "def transient_solution(t_0, u_0, v_0):\n",
    "    uh_c1 = uh_1(t_0)\n",
    "    uh_c2 = uh_2(t_0)\n",
    "    vh_c1 = vh_1(t_0)\n",
    "    vh_c2 = vh_2(t_0)\n",
    "    up_0 = up(t_0)\n",
    "    vp_0 = vp(t_0)\n",
    "    # LGS Ax=b\n",
    "    A = np.array([[uh_c1, uh_c2], [vh_c1, vh_c2]])\n",
    "    b = np.array([u_0-up_0, v_0-vp_0])\n",
    "    x = np.linalg.solve(A, b)\n",
    "    C_1 = x[0]\n",
    "    C_2 = x[1]\n",
    "    return [C_1, C_2]"
   ]
  },
  {
   "cell_type": "markdown",
   "metadata": {},
   "source": [
    "## Simulation "
   ]
  },
  {
   "cell_type": "markdown",
   "metadata": {},
   "source": [
    "Parameterdefinition"
   ]
  },
  {
   "cell_type": "code",
   "execution_count": 4,
   "metadata": {},
   "outputs": [],
   "source": [
    "m = 3.0   # kg\n",
    "k = 10.0   # N/m\n",
    "c = 1.0   # Ns/m   critical damping for c=2*sqrt(k*m)=10.95445115...\n",
    "t_0 = 0.0   # s\n",
    "u_0 = 0.0   # m\n",
    "v_0 = 0.0   # m/s\n",
    "#excitation (discrete spectrum)\n",
    "T_a =  9.0  # s\n",
    "A_0 =  0.0  # m\n",
    "A_1 =  0.0  # m\n",
    "B_1 =  1.0  # m\n",
    "A_2 =  0.2  # m\n",
    "B_2 =  0.0  # m\n",
    "A_3 = -0.2  # m\n",
    "B_3 =  0.4  # m\n",
    "\n",
    "omega=2*np.pi/T_a\n",
    "omega_0 = np.sqrt(k/m)\n",
    "zeta = c/(2*np.sqrt(k*m))"
   ]
  },
  {
   "cell_type": "markdown",
   "metadata": {},
   "source": [
    "Eingangspektrum"
   ]
  },
  {
   "cell_type": "code",
   "execution_count": 5,
   "metadata": {},
   "outputs": [],
   "source": [
    "a0 = lambda t: A_0\n",
    "a1 = lambda t: A_1*np.cos(1*omega*t) + B_1*np.sin(1*omega*t)\n",
    "a2 = lambda t: A_2*np.cos(2*omega*t) + B_2*np.sin(2*omega*t)\n",
    "a3 = lambda t: A_3*np.cos(3*omega*t) + B_3*np.sin(3*omega*t)\n",
    "# superposition of excitation\n",
    "a  = lambda t: a0(t) + a1(t) + a2(t) + a3(t) "
   ]
  },
  {
   "cell_type": "markdown",
   "metadata": {},
   "source": [
    "Partikulärlösung"
   ]
  },
  {
   "cell_type": "code",
   "execution_count": 17,
   "metadata": {},
   "outputs": [
    {
     "name": "stdout",
     "output_type": "stream",
     "text": [
      "u_c1=  -0.026095902832989733    u_s1= 1.0186471353880886\n"
     ]
    }
   ],
   "source": [
    "# DC component u=a, v=0\n",
    "up0 = lambda t: A_0\n",
    "vp0 = lambda t: A_0\n",
    "\n",
    "[u_c1, u_s1, V, psi] = steady_state_solution(1*omega, omega_0, zeta, A_1, B_1)\n",
    "print(\"u_c1= \",u_c1, \"   u_s1=\", u_s1)\n",
    "up1 = lambda t: u_c1*np.cos(1*omega*t) + u_s1*np.sin(1*omega*t)\n",
    "vp1 = lambda t: (-u_c1*np.sin(1*omega*t) + u_s1*np.cos(1*omega*t)) * 1*omega\n",
    "\n",
    "[u_c2, u_s2, V, psi] = steady_state_solution(2*omega, omega_0, zeta, A_2, B_2)\n",
    "up2 = lambda t: u_c2*np.cos(2*omega*t) + u_s2*np.sin(2*omega*t)\n",
    "vp2 = lambda t: (-u_c2*np.sin(2*omega*t) + u_s2*np.cos(2*omega*t)) * 2*omega\n",
    "\n",
    "[u_c3, u_s3, V, psi] = steady_state_solution(3*omega, omega_0, zeta, A_3, B_3)\n",
    "up3 = lambda t: u_c3*np.cos(3*omega*t) + u_s3*np.sin(3*omega*t)\n",
    "vp3 = lambda t: (-u_c3*np.sin(3*omega*t) + u_s3*np.cos(3*omega*t)) * 3*omega\n",
    "\n",
    "# superposition of particular solutions\n",
    "up = lambda t: up0(t) + up1(t) + up2(t) + up3(t)\n",
    "vp = lambda t: vp0(t) + vp1(t) + vp2(t) + vp3(t)"
   ]
  },
  {
   "cell_type": "markdown",
   "metadata": {},
   "source": [
    "Lösung der homogenen Gleichung"
   ]
  },
  {
   "cell_type": "code",
   "execution_count": 7,
   "metadata": {},
   "outputs": [
    {
     "name": "stdout",
     "output_type": "stream",
     "text": [
      "omega_1=1.818 rad/s    delta=0.167 1/s\n"
     ]
    }
   ],
   "source": [
    "if zeta < 1:\n",
    "    omega_1 = omega_0*np.sqrt(1-zeta**2)\n",
    "    delta = omega_0*zeta\n",
    "    print(\"omega_1={:.3f} rad/s\".format(omega_1), \"   delta={:.3f} 1/s\".format(delta))\n",
    "    uh_1 = lambda t: np.exp(-delta*t)*np.cos(omega_1*t)\n",
    "    uh_2 = lambda t: np.exp(-delta*t)*np.sin(omega_1*t)\n",
    "    vh_1 = lambda t: np.exp(-delta*t)*( -delta*np.cos(omega_1*t) - omega_1*np.sin(omega_1*t) )\n",
    "    vh_2 = lambda t: np.exp(-delta*t)*( -delta*np.sin(omega_1*t) + omega_1*np.cos(omega_1*t) )\n",
    "elif zeta > 1:\n",
    "    delta_1 = omega_0*(zeta - np.sqrt(zeta**2 - 1))\n",
    "    delta_2 = omega_0*(zeta + np.sqrt(zeta**2 - 1))\n",
    "    print(\"delta_1={:.3f} 1/s\".format(delta_1), \"   delta_2={:.3f} 1/s\".format(delta_2) )\n",
    "    uh_1 = lambda t: np.exp(-delta_1*t)\n",
    "    uh_2 = lambda t: np.exp(-delta_2*t)\n",
    "    vh_1 = lambda t: np.exp(-delta_1*t)*(-delta_1)\n",
    "    vh_2 = lambda t: np.exp(-delta_2*t)*(-delta_2)\n",
    "else:\n",
    "    delta = omega_0*zeta\n",
    "    print(\"delta={:.3f} 1/s\".format(delta), \"   (critical damping)\")\n",
    "    uh_1 = lambda t: np.exp(-delta*t)\n",
    "    uh_2 = lambda t: t*np.exp(-delta*t)\n",
    "    vh_1 = lambda t:-np.exp(-delta*t)*delta\n",
    "    vh_2 = lambda t: np.exp(-delta*t) - t*np.exp(-delta*t)*delta"
   ]
  },
  {
   "cell_type": "markdown",
   "metadata": {},
   "source": [
    "Gesamtlösung für das erste Intervall (*Erdbeben*)"
   ]
  },
  {
   "cell_type": "code",
   "execution_count": 8,
   "metadata": {},
   "outputs": [],
   "source": [
    "[C_1, C_2] = transient_solution(t_0, u_0, v_0)\n",
    "\n",
    "uh = lambda t: C_1*uh_1(t) + C_2*uh_2(t) \n",
    "u = lambda t:  uh(t) + up(t) \n",
    "vh = lambda t: C_1*vh_1(t) + C_2*vh_2(t) \n",
    "v = lambda t:  vh(t) + vp(t) \n",
    "\n",
    "t_T = t_0 + T_a\n",
    "u_T = u(t_T) \n",
    "v_T = v(t_T)\n",
    "t_sample_T = np.linspace(t_0, t_T , 250)   # discretization with 250 points in time\n",
    "a_sample_T  =  a(t_sample_T)\n",
    "uh_sample_T = uh(t_sample_T)\n",
    "up_sample_T = up(t_sample_T)\n",
    "u_sample_T  =  u(t_sample_T)\n"
   ]
  },
  {
   "cell_type": "markdown",
   "metadata": {},
   "source": [
    "Gesamtlösung für das zweite Intervall (*Nachwirkung*)"
   ]
  },
  {
   "cell_type": "code",
   "execution_count": 9,
   "metadata": {},
   "outputs": [],
   "source": [
    "a  = lambda t: 0*t\n",
    "up = lambda t: 0*t\n",
    "vp = lambda t: 0*t\n",
    "\n",
    "[C_1, C_2] = transient_solution(t_T, u_T, v_T)   # end of first intervall is begin of second\n",
    "uh = lambda t: C_1*uh_1(t) + C_2*uh_2(t) \n",
    "u = lambda t:  uh(t) + up(t) \n",
    "vh = lambda t: C_1*vh_1(t) + C_2*vh_2(t) \n",
    "v = lambda t:  vh(t) + vp(t) \n",
    "\n",
    "t_2T = t_T + T_a\n",
    "t_sample_2T = np.linspace(t_T, t_2T , 250)   # discretization with 250 points in time\n",
    "a_sample_2T = a(t_sample_2T)\n",
    "uh_sample_2T = uh(t_sample_2T)\n",
    "up_sample_2T = up(t_sample_2T)\n",
    "u_sample_2T = u(t_sample_2T)"
   ]
  },
  {
   "cell_type": "markdown",
   "metadata": {},
   "source": [
    "Beide Intervalle zusammensetzen und grafisch darstellen"
   ]
  },
  {
   "cell_type": "code",
   "execution_count": 10,
   "metadata": {},
   "outputs": [
    {
     "data": {
      "image/png": "[encoded data removed]",
      "text/plain": [
       "<Figure size 432x288 with 1 Axes>"
      ]
     },
     "metadata": {
      "needs_background": "light"
     },
     "output_type": "display_data"
    }
   ],
   "source": [
    "t_sample = np.concatenate((t_sample_T, t_sample_2T))\n",
    "a_sample = np.concatenate((a_sample_T, a_sample_2T))\n",
    "u_sample = np.concatenate((u_sample_T, u_sample_2T))\n",
    "\n",
    "plt.figure(1)\n",
    "plt.plot(t_sample, a_sample, 'r', t_sample, u_sample, 'b');\n",
    "plt.xlabel(\"$t$\");"
   ]
  },
  {
   "cell_type": "markdown",
   "metadata": {},
   "source": [
    "## Anregungs- und Antwortspektrum berechnen"
   ]
  },
  {
   "cell_type": "markdown",
   "metadata": {},
   "source": [
    "Anregungsspektrum ist gegeben, wird zur Kontrolle nochmal berechnet"
   ]
  },
  {
   "cell_type": "code",
   "execution_count": 11,
   "metadata": {},
   "outputs": [],
   "source": [
    "dt = t_sample[1] - t_sample[0] \n",
    "Na = len(t_sample_T)  \n",
    "a_f = fft(a_sample_T)    \n",
    "ta_f = fftfreq(Na, dt) "
   ]
  },
  {
   "cell_type": "markdown",
   "metadata": {},
   "source": [
    "Ausgangsspektrum "
   ]
  },
  {
   "cell_type": "code",
   "execution_count": 12,
   "metadata": {},
   "outputs": [],
   "source": [
    "Nu = len(t_sample_T) # \n",
    "w = hann(Nu)   # Hanning window\n",
    "uw_f = fft(w*u_sample_T)     \n",
    "tu_f = fftfreq(Nu, dt)[:Nu//2]"
   ]
  },
  {
   "cell_type": "markdown",
   "metadata": {},
   "source": [
    "Grafische Darstellung"
   ]
  },
  {
   "cell_type": "code",
   "execution_count": 13,
   "metadata": {
    "scrolled": true
   },
   "outputs": [
    {
     "data": {
      "image/png": "[encoded data removed]",
      "text/plain": [
       "<Figure size 432x288 with 1 Axes>"
      ]
     },
     "metadata": {
      "needs_background": "light"
     },
     "output_type": "display_data"
    }
   ],
   "source": [
    "f0=omega_0/(2*np.pi)   # TODO damped eigenfrequency would be better, but needs definition by cases \n",
    "plt.figure(2)\n",
    "plt.plot(ta_f[:Na//20], (2/Na)*np.abs(a_f[:Na//20]), 'ro:', tu_f[:Nu//20], (2/Nu)*np.abs(uw_f[:Nu//20]), 'bo:', f0,0,'ko')\n",
    "plt.xlabel(\"$f$\");"
   ]
  },
  {
   "cell_type": "markdown",
   "metadata": {},
   "source": [
    "Warum befinden sich die Maxima beider Spektren bei unterschiedlichen Frequenzen?\n",
    "Hinweis: Der einzelne schwarze Punkt markiert die (ungedämpfte) \n",
    "Eigenfrequenz."
   ]
  },
  {
   "cell_type": "markdown",
   "metadata": {},
   "source": [
    "**Zusatzfrage:** die ungedämpfte Eigenfrequenz wäre als Bezug besser geeignet, worauf ist dabei zu achten?"
   ]
  },
  {
   "cell_type": "code",
   "execution_count": null,
   "metadata": {},
   "outputs": [],
   "source": []
  }
 ],
 "metadata": {
  "kernelspec": {
   "display_name": "Python 3",
   "language": "python",
   "name": "python3"
  },
  "language_info": {
   "codemirror_mode": {
    "name": "ipython",
    "version": 3
   },
   "file_extension": ".py",
   "mimetype": "text/x-python",
   "name": "python",
   "nbconvert_exporter": "python",
   "pygments_lexer": "ipython3",
   "version": "3.8.5"
  }
 },
 "nbformat": 4,
 "nbformat_minor": 4
}
