{
 "cells": [
  {
   "cell_type": "markdown",
   "metadata": {
    "deletable": false,
    "editable": false
   },
   "source": [
    "![Logo TUBAF](https://tu-freiberg.de/sites/default/files/media/freiberger-alumni-netzwerk-6127/wbm_orig_rgb_0.jpg)\n",
    "\n",
    "Exercise material of the MSc-level course **Soil Dynamics**.\n",
    "Held at Technische Universität Bergakademie Freiberg.\n",
    "\n",
    "Comments to:\n",
    "\n",
    "*Prof. Dr. Thomas Nagel  \n",
    "Chair of Soil Mechanics and Foundation Engineering  \n",
    "Geotechnical Institute  \n",
    "Technische Universität Bergakademie Freiberg.*\n",
    "\n",
    "https://tu-freiberg.de/en/fakultaet3/gt/soilmechanics\n"
   ]
  },
  {
   "cell_type": "markdown",
   "metadata": {},
   "source": [
    "# Pfahl unter zyklischer Last\n"
   ]
  },
  {
   "cell_type": "markdown",
   "metadata": {},
   "source": [
    "Module laden"
   ]
  },
  {
   "cell_type": "code",
   "execution_count": 1,
   "metadata": {},
   "outputs": [],
   "source": [
    "import sympy as sp\n",
    "import numpy as np\n",
    "import matplotlib.pyplot as plt\n",
    "from ipywidgets import widgets\n",
    "from ipywidgets import interact\n",
    "from sympy.interactive import printing\n",
    "import plot_functions.plot_settings\n",
    "%run plot_functions/wave1d_pile_interaction.ipynb\n",
    "printing.init_printing()\n",
    "%load_ext ipydex.displaytools"
   ]
  },
  {
   "cell_type": "markdown",
   "metadata": {},
   "source": [
    "_Last line enables special comment **##:** for LaTeX formatting of output_ "
   ]
  },
  {
   "cell_type": "markdown",
   "metadata": {},
   "source": [
    "## Stationärer Zustand"
   ]
  },
  {
   "cell_type": "markdown",
   "metadata": {},
   "source": [
    "TODO Skizze\n",
    "``![wavebar_bc.png](https://github.com/nagelt/soil_dynamics/raw/master/Images/wavebar_bc.png)``"
   ]
  },
  {
   "cell_type": "markdown",
   "metadata": {},
   "source": [
    "Variablen für symbolische Rechnung deklarieren (sympy)"
   ]
  },
  {
   "cell_type": "code",
   "execution_count": 2,
   "metadata": {},
   "outputs": [],
   "source": [
    "A, rho, E, kappa, c, omega, z, t, C1, C2, L, F, H = sp.symbols('A rho E kappa c omega z t C1 C2 L F H')"
   ]
  },
  {
   "cell_type": "markdown",
   "metadata": {},
   "source": [
    "Aus dem Ansatz $w(z,t)=f(z)sin(\\omega t)$ folgt $f(z)$"
   ]
  },
  {
   "cell_type": "code",
   "execution_count": 3,
   "metadata": {
    "scrolled": true
   },
   "outputs": [],
   "source": [
    "alpha = sp.sqrt(1-(omega*H/c)**2)\n",
    "fa = C1*sp.cosh(alpha*z/H) + C2*sp.sinh(alpha*z/H)   # hyperbolic functions\n",
    "dfadz = fa.diff(z)"
   ]
  },
  {
   "cell_type": "markdown",
   "metadata": {},
   "source": [
    "Die unbestimmten Koeffizienten $C_1$ und $C_2$ folgen aus den Randbedingungen: Kraftverlauf oben, unverschieblich unten."
   ]
  },
  {
   "cell_type": "code",
   "execution_count": 4,
   "metadata": {},
   "outputs": [],
   "source": [
    "BCtop_a = dfadz.subs(z, 0) + F/(E*A)\n",
    "BCbottom_a = fa.subs(z, L) \n",
    "BCsol_a = sp.solve([BCtop_a, BCbottom_a], C1, C2)"
   ]
  },
  {
   "cell_type": "markdown",
   "metadata": {},
   "source": [
    "Einsetzen in den ursprünglichen Ansatz"
   ]
  },
  {
   "cell_type": "code",
   "execution_count": 5,
   "metadata": {},
   "outputs": [
    {
     "data": {
      "image/png": "[encoded data removed]",
      "text/latex": [
       "$\\displaystyle - \\frac{F H \\left(\\sinh{\\left(\\frac{z \\sqrt{- \\frac{H^{2} \\omega^{2}}{c^{2}} + 1}}{H} \\right)} - \\cosh{\\left(\\frac{z \\sqrt{- \\frac{H^{2} \\omega^{2}}{c^{2}} + 1}}{H} \\right)} \\tanh{\\left(\\frac{L \\sqrt{- \\frac{H^{2} \\omega^{2}}{c^{2}} + 1}}{H} \\right)}\\right) \\sin{\\left(\\omega t \\right)}}{A E \\sqrt{- \\frac{H^{2} \\omega^{2} - c^{2}}{c^{2}}}}$"
      ],
      "text/plain": [
       "     ⎛    ⎛        _____________⎞       ⎛        _____________⎞     ⎛        _\n",
       "     ⎜    ⎜       ╱    2  2     ⎟       ⎜       ╱    2  2     ⎟     ⎜       ╱ \n",
       "     ⎜    ⎜      ╱    H ⋅ω      ⎟       ⎜      ╱    H ⋅ω      ⎟     ⎜      ╱  \n",
       "     ⎜    ⎜z⋅   ╱   - ───── + 1 ⎟       ⎜z⋅   ╱   - ───── + 1 ⎟     ⎜L⋅   ╱   \n",
       "     ⎜    ⎜    ╱         2      ⎟       ⎜    ╱         2      ⎟     ⎜    ╱    \n",
       "     ⎜    ⎜  ╲╱         c       ⎟       ⎜  ╲╱         c       ⎟     ⎜  ╲╱     \n",
       "-F⋅H⋅⎜sinh⎜─────────────────────⎟ - cosh⎜─────────────────────⎟⋅tanh⎜─────────\n",
       "     ⎝    ⎝          H          ⎠       ⎝          H          ⎠     ⎝         \n",
       "──────────────────────────────────────────────────────────────────────────────\n",
       "                                                ________________              \n",
       "                                               ╱  ⎛ 2  2    2⎞                \n",
       "                                              ╱  -⎝H ⋅ω  - c ⎠                \n",
       "                                      A⋅E⋅   ╱   ──────────────               \n",
       "                                            ╱           2                     \n",
       "                                          ╲╱           c                      \n",
       "\n",
       "____________⎞⎞          \n",
       "   2  2     ⎟⎟          \n",
       "  H ⋅ω      ⎟⎟          \n",
       "- ───── + 1 ⎟⎟          \n",
       "     2      ⎟⎟          \n",
       "    c       ⎟⎟          \n",
       "────────────⎟⎟⋅sin(ω⋅t) \n",
       " H          ⎠⎠          \n",
       "────────────────────────\n",
       "                        \n",
       "                        \n",
       "                        \n",
       "                        \n",
       "                        \n",
       "                        "
      ]
     },
     "metadata": {},
     "output_type": "display_data"
    },
    {
     "name": "stdout",
     "output_type": "stream",
     "text": [
      "-F*H*(sinh(z*sqrt(-H**2*omega**2/c**2 + 1)/H) - cosh(z*sqrt(-H**2*omega**2/c**2 + 1)/H)*tanh(L*sqrt(-H**2*omega**2/c**2 + 1)/H))*sin(omega*t)/(A*E*sqrt(-(H**2*omega**2 - c**2)/c**2))\n"
     ]
    }
   ],
   "source": [
    "fasol = fa.subs([(C1, BCsol_a[C1]), (C2, BCsol_a[C2])])\n",
    "wasol = sp.simplify(fasol*sp.sin(omega*t))\n",
    "display(wasol)\n",
    "print(wasol)   # for safety if display fails"
   ]
  },
  {
   "cell_type": "markdown",
   "metadata": {},
   "source": [
    "Jetzt noch mal das gleiche für den anderen Fall der Diskriminante um reell zu bleiben (_alternativ total komplex_)"
   ]
  },
  {
   "cell_type": "code",
   "execution_count": 6,
   "metadata": {},
   "outputs": [
    {
     "data": {
      "image/png": "[encoded data removed]",
      "text/latex": [
       "$\\displaystyle \\frac{F H \\left(- \\sin{\\left(\\frac{z \\sqrt{\\frac{H^{2} \\omega^{2}}{c^{2}} - 1}}{H} \\right)} + \\cos{\\left(\\frac{z \\sqrt{\\frac{H^{2} \\omega^{2}}{c^{2}} - 1}}{H} \\right)} \\tan{\\left(\\frac{L \\sqrt{\\frac{H^{2} \\omega^{2}}{c^{2}} - 1}}{H} \\right)}\\right) \\sin{\\left(\\omega t \\right)}}{A E \\sqrt{\\frac{H^{2} \\omega^{2} - c^{2}}{c^{2}}}}$"
      ],
      "text/plain": [
       "    ⎛     ⎛        ___________⎞      ⎛        ___________⎞    ⎛        _______\n",
       "    ⎜     ⎜       ╱  2  2     ⎟      ⎜       ╱  2  2     ⎟    ⎜       ╱  2  2 \n",
       "    ⎜     ⎜      ╱  H ⋅ω      ⎟      ⎜      ╱  H ⋅ω      ⎟    ⎜      ╱  H ⋅ω  \n",
       "    ⎜     ⎜z⋅   ╱   ───── - 1 ⎟      ⎜z⋅   ╱   ───── - 1 ⎟    ⎜L⋅   ╱   ───── \n",
       "    ⎜     ⎜    ╱       2      ⎟      ⎜    ╱       2      ⎟    ⎜    ╱       2  \n",
       "    ⎜     ⎜  ╲╱       c       ⎟      ⎜  ╲╱       c       ⎟    ⎜  ╲╱       c   \n",
       "F⋅H⋅⎜- sin⎜───────────────────⎟ + cos⎜───────────────────⎟⋅tan⎜───────────────\n",
       "    ⎝     ⎝         H         ⎠      ⎝         H         ⎠    ⎝         H     \n",
       "──────────────────────────────────────────────────────────────────────────────\n",
       "                                              ____________                    \n",
       "                                             ╱  2  2    2                     \n",
       "                                            ╱  H ⋅ω  - c                      \n",
       "                                    A⋅E⋅   ╱   ──────────                     \n",
       "                                          ╱         2                         \n",
       "                                        ╲╱         c                          \n",
       "\n",
       "____⎞⎞         \n",
       "    ⎟⎟         \n",
       "    ⎟⎟         \n",
       "- 1 ⎟⎟         \n",
       "    ⎟⎟         \n",
       "    ⎟⎟         \n",
       "────⎟⎟⋅sin(ω⋅t)\n",
       "    ⎠⎠         \n",
       "───────────────\n",
       "               \n",
       "               \n",
       "               \n",
       "               \n",
       "               \n",
       "               "
      ]
     },
     "metadata": {},
     "output_type": "display_data"
    },
    {
     "name": "stdout",
     "output_type": "stream",
     "text": [
      "F*H*(-sin(z*sqrt(H**2*omega**2/c**2 - 1)/H) + cos(z*sqrt(H**2*omega**2/c**2 - 1)/H)*tan(L*sqrt(H**2*omega**2/c**2 - 1)/H))*sin(omega*t)/(A*E*sqrt((H**2*omega**2 - c**2)/c**2))\n"
     ]
    }
   ],
   "source": [
    "beta = sp.sqrt(-1+(omega*H/c)**2)\n",
    "fb = C1*sp.cos(beta*z/H) + C2*sp.sin(beta*z/H)    # trigonometric functions\n",
    "dfbdz = fb.diff(z)\n",
    "BCtop_b = dfbdz.subs(z, 0) + F/(E*A)   # redundant, shift into function\n",
    "BCbottom_b = fb.subs(z, L)   # redundant, shift into function\n",
    "BCsol_b = sp.solve([BCtop_b, BCbottom_b], C1, C2)    # redundant, shift into function\n",
    "fbsol = fb.subs([(C1, BCsol_b[C1]), (C2, BCsol_b[C2])])\n",
    "wbsol = sp.simplify(fbsol*sp.sin(omega*t))\n",
    "display(wbsol)\n",
    "print(wbsol)   # for safety if display fails"
   ]
  },
  {
   "cell_type": "code",
   "execution_count": 7,
   "metadata": {},
   "outputs": [
    {
     "data": {
      "application/vnd.jupyter.widget-view+json": {
       "model_id": "cb7deb89063443c2a90550177e467e24",
       "version_major": 2,
       "version_minor": 0
      },
      "text/plain": [
       "interactive(children=(IntSlider(value=5, description='$f$ [Hz]:', max=101, min=1, step=5), IntSlider(value=101…"
      ]
     },
     "metadata": {},
     "output_type": "display_data"
    }
   ],
   "source": [
    "interactive_pile_plot()   "
   ]
  },
  {
   "cell_type": "code",
   "execution_count": 8,
   "metadata": {},
   "outputs": [],
   "source": [
    "#, confer wave in bar impact (arrow)"
   ]
  }
 ],
 "metadata": {
  "kernelspec": {
   "display_name": "Python 3",
   "language": "python",
   "name": "python3"
  },
  "language_info": {
   "codemirror_mode": {
    "name": "ipython",
    "version": 3
   },
   "file_extension": ".py",
   "mimetype": "text/x-python",
   "name": "python",
   "nbconvert_exporter": "python",
   "pygments_lexer": "ipython3",
   "version": "3.8.5"
  }
 },
 "nbformat": 4,
 "nbformat_minor": 4
}
