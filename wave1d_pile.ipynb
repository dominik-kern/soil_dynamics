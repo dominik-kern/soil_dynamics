{
 "cells": [
  {
   "cell_type": "markdown",
   "metadata": {
    "deletable": false,
    "editable": false
   },
   "source": [
    "![Logo TUBAF](https://tu-freiberg.de/sites/default/files/media/freiberger-alumni-netzwerk-6127/wbm_orig_rgb_0.jpg)\n",
    "\n",
    "Exercise material of the MSc-level course **Soil Dynamics**.\n",
    "Held at Technische Universität Bergakademie Freiberg.\n",
    "\n",
    "Comments to:\n",
    "\n",
    "*Prof. Dr. Thomas Nagel  \n",
    "Chair of Soil Mechanics and Foundation Engineering  \n",
    "Geotechnical Institute  \n",
    "Technische Universität Bergakademie Freiberg.*\n",
    "\n",
    "https://tu-freiberg.de/en/fakultaet3/gt/soilmechanics\n"
   ]
  },
  {
   "cell_type": "markdown",
   "metadata": {},
   "source": [
    "# Wellenausbreitung im Dehnstab, Rand- und Übergangsbedingungen mit disreten Kraftelementen\n"
   ]
  },
  {
   "cell_type": "markdown",
   "metadata": {},
   "source": [
    "Module laden"
   ]
  },
  {
   "cell_type": "code",
   "execution_count": 1,
   "metadata": {},
   "outputs": [],
   "source": [
    "import sympy as sp\n",
    "import numpy as np\n",
    "import matplotlib.pyplot as plt\n",
    "from ipywidgets import widgets\n",
    "from ipywidgets import interact\n",
    "from sympy.interactive import printing\n",
    "import plot_functions.plot_settings\n",
    "%run plot_functions/wave1d_discrete_elements_interaction.ipynb\n",
    "printing.init_printing()\n",
    "%load_ext ipydex.displaytools"
   ]
  },
  {
   "cell_type": "markdown",
   "metadata": {},
   "source": [
    "_Last line enables special comment **##:** for LaTeX formatting of output_ "
   ]
  },
  {
   "cell_type": "markdown",
   "metadata": {},
   "source": [
    "## Randbedingungen"
   ]
  },
  {
   "cell_type": "markdown",
   "metadata": {},
   "source": [
    "![wavebar_bc.png](https://github.com/nagelt/soil_dynamics/raw/master/Images/wavebar_bc.png)"
   ]
  },
  {
   "cell_type": "markdown",
   "metadata": {},
   "source": [
    "Variablen für symbolische Rechnung deklarieren (sympy)"
   ]
  },
  {
   "cell_type": "code",
   "execution_count": 2,
   "metadata": {},
   "outputs": [],
   "source": [
    "m, c, k, w, EA, kappa, z, omega, t, C1, C2, R1, R2, SIN, COS = sp.symbols('m c k w EA kappa z omega t C1 C2 R1 R2 SIN COS')"
   ]
  },
  {
   "cell_type": "markdown",
   "metadata": {},
   "source": [
    "Randbedingung in zwei Gleichungen aufteilen (reelle Zahlen: sin-/cos-Terme)"
   ]
  },
  {
   "cell_type": "code",
   "execution_count": 3,
   "metadata": {},
   "outputs": [],
   "source": [
    "def reflection(BC):\n",
    "    BCz0 =  BC.subs(z, 0)   # evaluate BC at z=0\n",
    "    BCsincos = BCz0.subs([ (sp.sin(omega*t), SIN), (sp.cos(omega*t), COS)] )   # turn functions into constants to enable collect\n",
    "    BCSC = sp.collect( sp.expand(BCsincos), [SIN, COS])   # first expand and then collect for sin- and cos-terms\n",
    "    BCsin = BCSC.coeff(SIN)\n",
    "    BCcos = BCSC.coeff(COS)\n",
    "    solution = sp.solve( [BCcos, BCsin], R1, R2)    # use sp.linsolve if speed becomes an issue\n",
    "    return solution"
   ]
  },
  {
   "cell_type": "markdown",
   "metadata": {},
   "source": [
    "Überlagerung einfallender und reflektierter Welle, benötigte Ableitungen"
   ]
  },
  {
   "cell_type": "code",
   "execution_count": 4,
   "metadata": {},
   "outputs": [],
   "source": [
    "w   = C1*sp.cos(kappa*z + omega*t) + C2*sp.sin(kappa*z + omega*t) + R1*sp.cos(kappa*z - omega*t) + R2*sp.sin(kappa*z - omega*t)\n",
    "wt  = sp.diff(w,  t)\n",
    "wtt = sp.diff(wt, t)\n",
    "wz  = sp.diff(w,  z)"
   ]
  },
  {
   "cell_type": "markdown",
   "metadata": {},
   "source": [
    "Randfeder"
   ]
  },
  {
   "cell_type": "code",
   "execution_count": 5,
   "metadata": {},
   "outputs": [
    {
     "data": {
      "image/png": "[encoded data removed]",
      "text/latex": [
       "springBCsol := $\\displaystyle \\left\\{ R_{1} : \\frac{EA \\kappa \\left(C_{1} EA \\kappa + C_{2} k\\right) - k \\left(C_{1} k - C_{2} EA \\kappa\\right)}{EA^{2} \\kappa^{2} + k^{2}}, \\  R_{2} : \\frac{EA \\kappa \\left(C_{1} k - C_{2} EA \\kappa\\right) + k \\left(C_{1} EA \\kappa + C_{2} k\\right)}{EA^{2} \\kappa^{2} + k^{2}}\\right\\}$"
      ],
      "text/plain": [
       "springBCsol := ⎧    EA⋅κ⋅(C₁⋅EA⋅κ + C₂⋅k) - k⋅(C₁⋅k - C₂⋅EA⋅κ)      EA⋅κ⋅(C₁⋅k - C₂⋅EA⋅κ) + k\n",
       "⎪R₁: ──────────────────────────────────────────, R₂: ─────────────────────────\n",
       "⎨                     2  2    2                                       2  2    \n",
       "⎪                   EA ⋅κ  + k                                      EA ⋅κ  + k\n",
       "⎩                                                                             \n",
       "\n",
       "⋅(C₁⋅EA⋅κ + C₂⋅k)⎫\n",
       "─────────────────⎪\n",
       "2                ⎬\n",
       "                 ⎪\n",
       "                 ⎭"
      ]
     },
     "metadata": {},
     "output_type": "display_data"
    },
    {
     "name": "stdout",
     "output_type": "stream",
     "text": [
      "---\n"
     ]
    }
   ],
   "source": [
    "springBC = k*w - EA*wz\n",
    "springBCsol = reflection(springBC) ##:"
   ]
  },
  {
   "cell_type": "markdown",
   "metadata": {},
   "source": [
    "Randdämpfer"
   ]
  },
  {
   "cell_type": "code",
   "execution_count": 6,
   "metadata": {},
   "outputs": [
    {
     "data": {
      "image/png": "[encoded data removed]",
      "text/latex": [
       "dashpotBCsol := $\\displaystyle \\left\\{ R_{1} : \\frac{C_{1} \\left(EA \\kappa - c \\omega\\right)}{EA \\kappa + c \\omega}, \\  R_{2} : \\frac{C_{2} \\left(- EA \\kappa + c \\omega\\right)}{EA \\kappa + c \\omega}\\right\\}$"
      ],
      "text/plain": [
       "dashpotBCsol := ⎧    C₁⋅(EA⋅κ - c⋅ω)      C₂⋅(-EA⋅κ + c⋅ω)⎫\n",
       "⎨R₁: ───────────────, R₂: ────────────────⎬\n",
       "⎩       EA⋅κ + c⋅ω           EA⋅κ + c⋅ω   ⎭"
      ]
     },
     "metadata": {},
     "output_type": "display_data"
    },
    {
     "name": "stdout",
     "output_type": "stream",
     "text": [
      "---\n"
     ]
    }
   ],
   "source": [
    "dashpotBC = c*wt - EA*wz\n",
    "dashpotBCsol = reflection(dashpotBC) ##:"
   ]
  },
  {
   "cell_type": "markdown",
   "metadata": {},
   "source": [
    "Randmasse"
   ]
  },
  {
   "cell_type": "code",
   "execution_count": 7,
   "metadata": {},
   "outputs": [
    {
     "data": {
      "image/png": "[encoded data removed]",
      "text/latex": [
       "massBCsol := $\\displaystyle \\left\\{ R_{1} : \\frac{C_{1} EA^{2} \\kappa^{2} - C_{1} m^{2} \\omega^{4} - 2 C_{2} EA \\kappa m \\omega^{2}}{EA^{2} \\kappa^{2} + m^{2} \\omega^{4}}, \\  R_{2} : \\frac{- 2 C_{1} EA \\kappa m \\omega^{2} - C_{2} EA^{2} \\kappa^{2} + C_{2} m^{2} \\omega^{4}}{EA^{2} \\kappa^{2} + m^{2} \\omega^{4}}\\right\\}$"
      ],
      "text/plain": [
       "massBCsol := ⎧         2  2       2  4                2                     2        2  2  \n",
       "⎪    C₁⋅EA ⋅κ  - C₁⋅m ⋅ω  - 2⋅C₂⋅EA⋅κ⋅m⋅ω       - 2⋅C₁⋅EA⋅κ⋅m⋅ω  - C₂⋅EA ⋅κ  +\n",
       "⎨R₁: ─────────────────────────────────────, R₂: ──────────────────────────────\n",
       "⎪                  2  2    2  4                                2  2    2  4   \n",
       "⎩                EA ⋅κ  + m ⋅ω                               EA ⋅κ  + m ⋅ω    \n",
       "\n",
       "     2  4⎫\n",
       " C₂⋅m ⋅ω ⎪\n",
       "─────────⎬\n",
       "         ⎪\n",
       "         ⎭"
      ]
     },
     "metadata": {},
     "output_type": "display_data"
    },
    {
     "name": "stdout",
     "output_type": "stream",
     "text": [
      "---\n"
     ]
    }
   ],
   "source": [
    "massBC = m*wtt - EA*wz\n",
    "massBCsol = reflection(massBC) ##:"
   ]
  },
  {
   "cell_type": "markdown",
   "metadata": {},
   "source": [
    "Wie ließe sich die Rechnung für Kombinationen mehrerer Kraftelemente zusammenfassen?\n",
    "\n",
    "Wie ließe sich die Rechnung durch komplexe Zahlen kompakter formulieren?"
   ]
  },
  {
   "cell_type": "markdown",
   "metadata": {},
   "source": [
    "## Übergangsbedingungen"
   ]
  },
  {
   "cell_type": "markdown",
   "metadata": {},
   "source": [
    "![wavebar_tc.png](https://github.com/nagelt/soil_dynamics/raw/master/Images/wavebar_tc.png)"
   ]
  },
  {
   "cell_type": "code",
   "execution_count": 8,
   "metadata": {},
   "outputs": [
    {
     "data": {
      "application/vnd.jupyter.widget-view+json": {
       "model_id": "68a0782ce22f4f89bce4e353e218915d",
       "version_major": 2,
       "version_minor": 0
      },
      "text/plain": [
       "interactive(children=(IntSlider(value=0, description='$m/m_\\\\mathrm{ref}$:', max=500, step=10), IntSlider(valu…"
      ]
     },
     "metadata": {},
     "output_type": "display_data"
    }
   ],
   "source": [
    "interactive_transition_conditions_plot()   "
   ]
  },
  {
   "cell_type": "markdown",
   "metadata": {},
   "source": [
    "Durch welche konstruktiven Maßnahmen ließe sich eine gute Schwingungsisolation erreichen?"
   ]
  },
  {
   "cell_type": "markdown",
   "metadata": {},
   "source": [
    "### Herleitung der Ausdrücke hinter dem interaktiven Diagramm"
   ]
  },
  {
   "cell_type": "code",
   "execution_count": 9,
   "metadata": {},
   "outputs": [
    {
     "name": "stdout",
     "output_type": "stream",
     "text": [
      "cT = 2*I*EA*kappa/(2*I*EA*kappa + I*c*omega - k + m*omega**2)\n",
      "cR = (-I*c*omega + k - m*omega**2)/(2*I*EA*kappa + I*c*omega - k + m*omega**2)\n"
     ]
    }
   ],
   "source": [
    "m, c, k, w, EA, kappa, z, omega, t = sp.symbols('m c k w EA kappa z omega t', real=True)  # dimensional parameters\n",
    "C, cT, cR = sp.symbols('C cT cR')   # incident amplitude, transmission and reflection coefficient\n",
    "   \n",
    "w_left = cR*C*sp.exp(sp.I*(-kappa*z - omega*t)) + C*sp.exp(sp.I*(+kappa*z - omega*t))    # waves in left domain (incident and reflected)\n",
    "w_left_z =  sp.diff(w_left, z)   # spatial derivative\n",
    "w_left_t =  sp.diff(w_left, t)   # temporal derivative (velocity)\n",
    "w_left_tt = sp.diff(w_left_t, t)   # temporal derivative (acceleration)\n",
    "\n",
    "w_right  = cT*C*sp.exp(sp.I*(+kappa*z - omega*t))    # wave in right domain (transmitted)\n",
    "w_right_z =  sp.diff(w_right, z)   # spatial derivative\n",
    "w_right_t =  sp.diff(w_right, t)   # temporal derivative (velocity)\n",
    "w_right_tt = sp.diff(w_right_t, t)   # temporal derivative (acceleration)\n",
    "\n",
    "kinematics = w_left - w_right   # continuity in displacement\n",
    "kinematics_z0 = kinematics.subs(z, 0)   # evaluate TC at z=0\n",
    "kinematics_eq = sp.simplify(kinematics_z0*sp.exp(sp.I*omega*t))   # cancel time-depependency\n",
    "\n",
    "#kinetics = EA*(w_right_z-w_left_z) - k*w_right - c*w_right_t - m*w_right_tt   # momentum balance\n",
    "kinetics = EA*(w_right_z-w_left_z) - k*w_left - c*w_left_t - m*w_left_tt   # momentum balance\n",
    "kinetics_z0 =  kinetics.subs(z, 0)   # evaluate TC at z=0\n",
    "kinetics_eq = sp.simplify(kinetics_z0*sp.exp(sp.I*omega*t))   # cancel time-depependency\n",
    "\n",
    "TCsol = sp.solve([kinematics_eq, kinetics_eq], cR, cT)   # solve transition conditions\n",
    "cT = TCsol[cT]   # transmission coefficient\n",
    "cR = TCsol[cR]   # reflection coefficient\n",
    "\n",
    "print(\"cT = {}\".format(cT))\n",
    "print(\"cR = {}\".format(cR))"
   ]
  }
 ],
 "metadata": {
  "kernelspec": {
   "display_name": "Python 3",
   "language": "python",
   "name": "python3"
  },
  "language_info": {
   "codemirror_mode": {
    "name": "ipython",
    "version": 3
   },
   "file_extension": ".py",
   "mimetype": "text/x-python",
   "name": "python",
   "nbconvert_exporter": "python",
   "pygments_lexer": "ipython3",
   "version": "3.8.5"
  }
 },
 "nbformat": 4,
 "nbformat_minor": 4
}
