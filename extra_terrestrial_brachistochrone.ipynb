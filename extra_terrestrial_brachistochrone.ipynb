{
 "cells": [
  {
   "cell_type": "markdown",
   "metadata": {},
   "source": [
    "![Logo TUBAF](https://tu-freiberg.de/sites/default/files/media/freiberger-alumni-netzwerk-6127/wbm_orig_rgb_0.jpg)\n",
    "\n",
    "Exercise material of the MSc-level course **Soil Dynamics**.\n",
    "Held at Technische Universität Bergakademie Freiberg.\n",
    "\n",
    "Comments to:\n",
    "\n",
    "*Prof. Dr. Thomas Nagel, Dr. Dominik Kern  \n",
    "Chair of Soil Mechanics and Foundation Engineering  \n",
    "Geotechnical Institute  \n",
    "Technische Universität Bergakademie Freiberg.*\n",
    "\n",
    "https://tu-freiberg.de/en/soilmechanics\n"
   ]
  },
  {
   "cell_type": "markdown",
   "metadata": {},
   "source": [
    "# Pfade mechanischer Raumwellen und die terrestrische Brachistochrone"
   ]
  },
  {
   "cell_type": "markdown",
   "metadata": {},
   "source": [
    "Das Fermatsche Prinzip besagt, dass sich Licht, im Allgemeinen Wellen, auf dem Weg der kürzesten Laufzeit ausbreiten. \n",
    "Für die Ausbreitungsgeschwindigkeit von P- und S-Wellen in elastischen Medien gilt\n",
    "$c_\\mathrm{P}, c_\\mathrm{S} \\propto \\sqrt{\\mu}$, wobei $\\mu$ für den Schubmodul steht."
   ]
  },
  {
   "cell_type": "code",
   "execution_count": 1,
   "metadata": {},
   "outputs": [],
   "source": [
    "#HIDDEN\n",
    "from IPython.display import display, Math, Latex\n",
    "import numpy as np\n",
    "import sympy as sp\n",
    "import matplotlib.pyplot as plt\n",
    "from scipy.integrate import odeint\n",
    "import plot_functions.plot_settings"
   ]
  },
  {
   "cell_type": "markdown",
   "metadata": {},
   "source": [
    "## Vorbetrachtung in kartesischen Koordinaten (klassisches Brachistrochronenproblem)"
   ]
  },
  {
   "cell_type": "markdown",
   "metadata": {},
   "source": [
    "Herleitung nach [Mark Levi: Classical Mechanics with Calculus of Variations and Optimal Control](https://www.google.de/books/edition/_/uVSYswEACAAJ?hl=de&sa=X&ved=2ahUKEwiE_I3G-ofyAhUBD-wKHdOeClUQ8fIDMBF6BAgIEAM) chapter 5.5"
   ]
  },
  {
   "cell_type": "markdown",
   "metadata": {},
   "source": [
    "Für den tiefenabhängigen Schubmodul wird in kartesischen Koordinaten oft die Näherung \n",
    "$\\mu \\propto p \\propto z$\n",
    "verwendet. Somit gilt $c \\propto \\sqrt{z}$.\n",
    "Damit ist die Bahnberechnung mathematisch äquivalent zur Brachistochrone, denn für die Geschwindigkeit eines Massenpunkts im Gravitationsfeld gilt in kartesischen Koordinaten ebenfalls \n",
    "$v\\propto \\sqrt{z}$. \n",
    "Die Lösung des klassischen Brachistrochronenproblems ist eine Zykloide, die Rollkurve eines Kreises entlang einer Geraden, wie wir im Folgenden rekapitulieren wollen."
   ]
  },
  {
   "cell_type": "markdown",
   "metadata": {},
   "source": [
    "Aus der Energieerhaltung eines Massenpunktes im Schwerefeld folgt seine Geschwindigkeit\n",
    "\\begin{equation}\n",
    "v = \\sqrt{2g y},\n",
    "\\end{equation}\n",
    "wobei die $y$-Koordinate abwärts gerichtet sei."
   ]
  },
  {
   "cell_type": "markdown",
   "metadata": {},
   "source": [
    "Die Zeit, um einen bestimmten Weg zurückzulegen, berechnet sich\n",
    "\\begin{equation}\n",
    "T = \\int_\\mathrm{A}^\\mathrm{B} \\frac{\\mathrm{d}s}{v}  = \\int_\\mathrm{A}^\\mathrm{B} \\frac{\\mathrm{d}s}{\\sqrt{2gy}}.\n",
    "\\end{equation}"
   ]
  },
  {
   "cell_type": "markdown",
   "metadata": {},
   "source": [
    "Wie im Folgenden gezeigt werden soll besitzen die Extremalen eines Funktionals der Struktur\n",
    "\\begin{equation}\n",
    "\\int_\\mathrm{A}^\\mathrm{B} F(y)\\, \\mathrm{d}s = \\int_\\mathrm{x_A}^\\mathrm{x_B} \\underbrace{F(y) \\sqrt{1+y'^2}}_{L} \\mathrm{d}x.\n",
    "\\end{equation}\n",
    "die Eigenschaft\n",
    "\\begin{equation}\n",
    "F(y)\\sin\\alpha = \\mathrm{const.}\n",
    "\\end{equation}"
   ]
  },
  {
   "cell_type": "markdown",
   "metadata": {},
   "source": [
    "Denn gemäß Noethers Theorem folgt aus Integranden der Struktur $L(y,y')$ die Erhaltungsgröße\n",
    "\\begin{equation}\n",
    "H = y' \\frac{\\partial L}{\\partial y'} - L = \\mathrm{const.}.\n",
    "\\end{equation}\n",
    "Für $L(y,y')=F(y)\\sqrt{1+y'^2}$ folgt konkret\n",
    "\\begin{equation}\n",
    "H = y'F(y)\\frac{y'}{\\sqrt{1+y'^2}}-F(y)\\sqrt{1+y'^2} = -\\frac{F(y)}{\\sqrt{1+y'^2}}\n",
    "\\end{equation}\n",
    "und durch Einsetzen von $y'=\\frac{\\cos\\alpha}{\\sin\\alpha}$, mit Winkel $\\alpha$ zur Vertikalen, bestätigen wir die Behauptung."
   ]
  },
  {
   "cell_type": "markdown",
   "metadata": {},
   "source": [
    "Im Brachistochronenproblem, nach Ausklammern der Konstanten $1/\\sqrt{2g}$, bleibt $F(y)=\\frac{1}{\\sqrt{y}}$ im Integral und für dessen Extremale gilt\n",
    "\\begin{align}\n",
    "   \\frac{\\sin\\alpha}{\\sqrt{y}} &= \\frac{1}{\\sqrt{2r}}, \\\\\n",
    "   \\sqrt{y} &= \\sqrt{2r} \\sin\\alpha.\n",
    "\\end{align}"
   ]
  },
  {
   "cell_type": "markdown",
   "metadata": {},
   "source": [
    "Wie die Skizze zeigt, beschreibt diese Kurve die Zykloide beim Abrollen eines Kreises mit Durchmesser $2r$ (Geschwindigkeit senkrecht zu Ortsvektor zum Momentanpol, Satz des Thales). \n",
    "![classical_brachistochrone.svg](https://github.com/nagelt/soil_dynamics/raw/master/Images/classical_brachistochrone.svg)"
   ]
  },
  {
   "cell_type": "code",
   "execution_count": null,
   "metadata": {},
   "outputs": [],
   "source": []
  },
  {
   "cell_type": "markdown",
   "metadata": {},
   "source": [
    "Der Durchmesser des abrollenden Kreises ist durch die Start- und Endpunkte der Bahn festgelegt."
   ]
  },
  {
   "cell_type": "markdown",
   "metadata": {},
   "source": [
    "## Rechnung in Polarkoordinaten (terrestrische Brachistochrone)"
   ]
  },
  {
   "cell_type": "markdown",
   "metadata": {},
   "source": [
    "Inspiriert durch [Matthew Van Koevering: Terrestrial Brachistochrone](https://www.youtube.com/watch?v=_KIvpr3X_bU)"
   ]
  },
  {
   "cell_type": "markdown",
   "metadata": {},
   "source": [
    "Beim Übergang zu Polarkoordinaten (die Erde ist eine Kugel) wird das gleiche Zeitfunktional\n",
    "\\begin{equation}\n",
    "T=\\int_\\mathrm{A}^\\mathrm{B} \\frac{\\mathrm{d} s}{v(r)}\n",
    "\\end{equation}\n",
    "minimiert, aber im Vergleich zu kartesischen Koordinaten mit einem anderen Kurvenelement und anderer tiefenabhängiger Geschwindigkeit\n",
    "\\begin{align}\n",
    "\\mathrm{d} s &= \\sqrt{(\\mathrm{d} r)^2+(r\\mathrm{d}\\theta)^2}, \\\\\n",
    "v &= C\\sqrt{R^2 - r^2},\n",
    "\\end{align}\n",
    "wobei im Brachistochronenproblem $C=\\sqrt{g/R}$ ist."
   ]
  },
  {
   "cell_type": "markdown",
   "metadata": {},
   "source": [
    "Der Integrand des zu minimierenden Funktionals\n",
    "\\begin{equation}\n",
    "T=\\frac{1}{C}\\int_{\\theta_\\mathrm{A}}^{\\theta_\\mathrm{B}} \\underbrace{\\sqrt{\\frac{ (\\mathrm{d} r/\\mathrm{d} \\theta)^2 +r^2}{R^2-r^2}}}_{L} \\mathrm{d} \\theta\n",
    "\\end{equation}\n",
    "ist vom Typ $L(r,r')$. "
   ]
  },
  {
   "cell_type": "markdown",
   "metadata": {},
   "source": [
    "**Anmerkung:** Die Geschwindigkeitsabhängigkeit eines Massenpunkts im Innern einer homogenen Kugel ist gleich der einer druckabhängigen Wellengeschwindigkeit. Ausgangspunkt ist [Newtons Schalentheorem](https://doi.org/10.1080/07468342.2018.1411655)\n",
    "\\begin{equation}\n",
    "F_g = \\frac{mgr}{R}.\n",
    "\\end{equation}"
   ]
  },
  {
   "cell_type": "markdown",
   "metadata": {},
   "source": [
    "Zum Massenpunkt gehört die potentielle Energie $V=\\frac{1}{2}\\frac{mg}{R}r^2$ und ausgehend vom Ruhezustand an der Eroberfläche $r=R$ folgt für die Brachistochrone\n",
    "\\begin{equation}\n",
    "v(r) = \\sqrt{\\frac{g}{R}}\\sqrt{R^2 - r^2}\n",
    "\\end{equation}"
   ]
  },
  {
   "cell_type": "markdown",
   "metadata": {},
   "source": [
    "Für die Wellenausbreitung nehmen wir eine konstante Dichte $\\rho$ an. Für den tiefenabhängigen hydrostatischen Druck gilt dann mit der Gravitationskonstante $G$\n",
    "\\begin{equation}\n",
    "p = \\int_r^R \\frac{4\\pi}{3} G \\rho^2r\\,\\mathrm{d}r = \\frac{2\\pi}{3}G\\rho^2(R^2 - r^2)\n",
    "\\end{equation}\n",
    "Unter Annahme eines linearen Zusammenhangs zwischen Druck und Schubmodul $\\mu=\\frac{1}{2}C_1 p$ erhalten wir für die Geschwindigkeit der S-Wellen einen anderen konstanten Faktor als im Brachistochronenproblem, aber die gleiche Struktur\n",
    "\\begin{equation}\n",
    "c_\\mathrm{S} = \\sqrt{\\frac{\\mu}{\\rho}} = \\sqrt{C_1 \\frac{\\pi}{3}G\\rho}\\,\\sqrt{R^2 - r^2}.\n",
    "\\end{equation}\n",
    "Die Geschwindigkeit der P-Wellen $c_\\mathrm{P}$ unterscheidet sich von $c_\\mathrm{S}$ nur um einen konstanten Faktor."
   ]
  },
  {
   "cell_type": "code",
   "execution_count": 2,
   "metadata": {},
   "outputs": [],
   "source": [
    "r, rt, r0, R, psi = sp.symbols('r rt r0 R psi')"
   ]
  },
  {
   "cell_type": "markdown",
   "metadata": {},
   "source": [
    "Wir beginnen mit dem Integranden des Zeitfunktionals, wobei die Konstanten ausgeklammert werden, die Bahn ist von ihnen unabhängig."
   ]
  },
  {
   "cell_type": "code",
   "execution_count": 3,
   "metadata": {},
   "outputs": [],
   "source": [
    "L = sp.sqrt((rt**2 + r**2)/(R**2 - r**2))"
   ]
  },
  {
   "cell_type": "markdown",
   "metadata": {},
   "source": [
    "Anstelle der Euler-Lagrange Gleichung nutzen wir die Erhaltungsgröße $H=r' \\frac{\\partial L}{\\partial r'} - L$ und wählen als Bezugspunkt den tiefsten Punkt der Bahn $r=r_0$ \n",
    "mit $r'(r_0)=0$ "
   ]
  },
  {
   "cell_type": "code",
   "execution_count": 4,
   "metadata": {
    "scrolled": true
   },
   "outputs": [
    {
     "data": {
      "text/latex": [
       "$\\displaystyle \\frac{- r^{2} \\sqrt{\\frac{r^{2} + rt^{2}}{R^{2} - r^{2}}} + \\sqrt{\\frac{r_{0}^{2}}{R^{2} - r_{0}^{2}}} \\left(r^{2} + rt^{2}\\right)}{r^{2} + rt^{2}}$"
      ],
      "text/plain": [
       "(-r**2*sqrt((r**2 + rt**2)/(R**2 - r**2)) + sqrt(r0**2/(R**2 - r0**2))*(r**2 + rt**2))/(r**2 + rt**2)"
      ]
     },
     "metadata": {},
     "output_type": "display_data"
    }
   ],
   "source": [
    "H = sp.simplify( rt*L.diff(rt) - L )\n",
    "H0 = H.subs([(r, r0), (rt, 0)])\n",
    "TB_condition = sp.simplify( H - H0 )   # equals zero\n",
    "display(TB_condition)"
   ]
  },
  {
   "cell_type": "markdown",
   "metadata": {},
   "source": [
    "Durch Umstellen erhalten wir als Extremalbedingung für die Bahn der kürzesten Laufzeit"
   ]
  },
  {
   "cell_type": "code",
   "execution_count": 5,
   "metadata": {},
   "outputs": [
    {
     "data": {
      "text/latex": [
       "$\\displaystyle - \\sqrt{\\frac{R^{2} r^{2} \\left(r^{2} - r_{0}^{2}\\right)}{r_{0}^{2} \\left(R^{2} - r^{2}\\right)}}$"
      ],
      "text/plain": [
       "-sqrt(R**2*r**2*(r**2 - r0**2)/(r0**2*(R**2 - r**2)))"
      ]
     },
     "metadata": {},
     "output_type": "display_data"
    },
    {
     "data": {
      "text/latex": [
       "$\\displaystyle \\sqrt{\\frac{R^{2} r^{2} \\left(- r^{2} + r_{0}^{2}\\right)}{r_{0}^{2} \\left(- R^{2} + r^{2}\\right)}}$"
      ],
      "text/plain": [
       "sqrt(R**2*r**2*(-r**2 + r0**2)/(r0**2*(-R**2 + r**2)))"
      ]
     },
     "metadata": {},
     "output_type": "display_data"
    }
   ],
   "source": [
    "TB_ode = sp.solve(TB_condition, rt)   # quadratic equation has two solutions\n",
    "display(sp.simplify(TB_ode[0]))\n",
    "display(sp.simplify(TB_ode[1]))"
   ]
  },
  {
   "cell_type": "markdown",
   "metadata": {},
   "source": [
    "Formal lässt sich die gewöhnliche Differentialgleichung \n",
    "\\begin{equation}\n",
    "r' = \\frac{Rr}{r_0}\\sqrt{\\frac{r^2-r_0^2}{R^2-r^2}}.\n",
    "\\end{equation}\n",
    "durch Trennung der Variablen und Integration lösen. Weil sich dabei schwierige Integrale anbahnen, versuchen wir sie mit _experimenteller Numerik_ zu untersuchen und aus der numerischen Lösung weitere Einsichten zu gewinnen."
   ]
  },
  {
   "cell_type": "markdown",
   "metadata": {},
   "source": [
    "### Numerische Lösung der bahnbestimmenden Differentialgleichung"
   ]
  },
  {
   "cell_type": "markdown",
   "metadata": {},
   "source": [
    "Bevor wir numerisch integrieren, drei Überlegungen vorab\n",
    "- aufgrund der Zeitsymmetrie erwarten wir eine symmetrische Bahn, wobei der tiefste Punkt $r=r_0$ in der Mitte liegt.\n",
    "- für $r_0=0$ erwarten wir eine gerade Linie durch den Erdmittelpunkt und für $0<r_0<R$ eine Winkeldifferenz $0<|\\theta_A-\\theta_B|<\\pi$.\n",
    "- an der Erdoberfläche $r=R$ kann der Anstieg unendlich unendlich werden, beispielsweise für $r_0=0$, aber möglicherweise auch in den anderen Fällen."
   ]
  },
  {
   "cell_type": "markdown",
   "metadata": {},
   "source": [
    "Differentialgleichung der terrestrischen Brachistochrone"
   ]
  },
  {
   "cell_type": "code",
   "execution_count": 6,
   "metadata": {},
   "outputs": [],
   "source": [
    "def tb_ode(r, t):   \n",
    "    if r0n < r < Rn:\n",
    "       dr = (Rn*r/r0n)*np.sqrt((r**2 - r0n**2)/(Rn**2 - r**2))\n",
    "    else:\n",
    "       dr = 0   # ignore infinite slope (end of path)\n",
    "    return dr"
   ]
  },
  {
   "cell_type": "markdown",
   "metadata": {},
   "source": [
    "Zahlenwerte für eine Beispielrechnung (Index n steht für numerisch, um von symbolischer Rechnung zu unterscheiden)"
   ]
  },
  {
   "cell_type": "code",
   "execution_count": 7,
   "metadata": {},
   "outputs": [],
   "source": [
    "Rn = 1.0   "
   ]
  },
  {
   "cell_type": "markdown",
   "metadata": {},
   "source": [
    "Maximal möglicher Winkelbereich vom tiefsten Punkt $r=r_0$ zur Oberfläche $r=R$ (die zweite Hälfte folgt durch Spiegelung)"
   ]
  },
  {
   "cell_type": "code",
   "execution_count": 8,
   "metadata": {},
   "outputs": [],
   "source": [
    "theta_grid = np.linspace(0, np.pi/2,1000)   "
   ]
  },
  {
   "cell_type": "markdown",
   "metadata": {},
   "source": [
    "Numerische Lösung für verschiedene Tiefen"
   ]
  },
  {
   "cell_type": "code",
   "execution_count": 1,
   "metadata": {},
   "outputs": [
    {
     "ename": "NameError",
     "evalue": "name 'plt' is not defined",
     "output_type": "error",
     "traceback": [
      "\u001b[0;31m---------------------------------------------------------------------------\u001b[0m",
      "\u001b[0;31mNameError\u001b[0m                                 Traceback (most recent call last)",
      "\u001b[0;32m<ipython-input-1-1cc5756de237>\u001b[0m in \u001b[0;36m<module>\u001b[0;34m\u001b[0m\n\u001b[0;32m----> 1\u001b[0;31m \u001b[0mfig\u001b[0m\u001b[0;34m,\u001b[0m \u001b[0max\u001b[0m \u001b[0;34m=\u001b[0m \u001b[0mplt\u001b[0m\u001b[0;34m.\u001b[0m\u001b[0msubplots\u001b[0m\u001b[0;34m(\u001b[0m\u001b[0msubplot_kw\u001b[0m\u001b[0;34m=\u001b[0m\u001b[0;34m{\u001b[0m\u001b[0;34m'projection'\u001b[0m\u001b[0;34m:\u001b[0m \u001b[0;34m'polar'\u001b[0m\u001b[0;34m}\u001b[0m\u001b[0;34m,\u001b[0m\u001b[0mfigsize\u001b[0m\u001b[0;34m=\u001b[0m\u001b[0;34m(\u001b[0m\u001b[0;36m10\u001b[0m\u001b[0;34m,\u001b[0m\u001b[0;36m10\u001b[0m\u001b[0;34m)\u001b[0m\u001b[0;34m)\u001b[0m\u001b[0;34m\u001b[0m\u001b[0;34m\u001b[0m\u001b[0m\n\u001b[0m\u001b[1;32m      2\u001b[0m \u001b[0max\u001b[0m\u001b[0;34m.\u001b[0m\u001b[0mset_rlabel_position\u001b[0m\u001b[0;34m(\u001b[0m\u001b[0;36m180\u001b[0m\u001b[0;34m)\u001b[0m\u001b[0;34m\u001b[0m\u001b[0;34m\u001b[0m\u001b[0m\n\u001b[1;32m      3\u001b[0m \u001b[0;32mfor\u001b[0m \u001b[0mr0n\u001b[0m \u001b[0;32min\u001b[0m \u001b[0mnp\u001b[0m\u001b[0;34m.\u001b[0m\u001b[0mlinspace\u001b[0m\u001b[0;34m(\u001b[0m\u001b[0;36m0.001\u001b[0m\u001b[0;34m,\u001b[0m \u001b[0;36m0.9\u001b[0m\u001b[0;34m,\u001b[0m \u001b[0;36m10\u001b[0m\u001b[0;34m)\u001b[0m\u001b[0;34m:\u001b[0m\u001b[0;34m\u001b[0m\u001b[0;34m\u001b[0m\u001b[0m\n\u001b[1;32m      4\u001b[0m     \u001b[0minitial_r\u001b[0m \u001b[0;34m=\u001b[0m \u001b[0;36m1.001\u001b[0m\u001b[0;34m*\u001b[0m\u001b[0mr0n\u001b[0m  \u001b[0;31m# start slightly above r0, otherwise circle (r=r0) results, not reaching the surface\u001b[0m\u001b[0;34m\u001b[0m\u001b[0;34m\u001b[0m\u001b[0m\n\u001b[1;32m      5\u001b[0m     \u001b[0mr_sol\u001b[0m \u001b[0;34m=\u001b[0m \u001b[0modeint\u001b[0m\u001b[0;34m(\u001b[0m\u001b[0mtb_ode\u001b[0m\u001b[0;34m,\u001b[0m \u001b[0minitial_r\u001b[0m\u001b[0;34m,\u001b[0m \u001b[0mtheta_grid\u001b[0m\u001b[0;34m)\u001b[0m\u001b[0;34m\u001b[0m\u001b[0;34m\u001b[0m\u001b[0m\n",
      "\u001b[0;31mNameError\u001b[0m: name 'plt' is not defined"
     ]
    }
   ],
   "source": [
    "fig, ax = plt.subplots(subplot_kw={'projection': 'polar'},figsize=(10,10))\n",
    "ax.set_rlabel_position(180) \n",
    "for r0n in np.linspace(0.001, 0.9, 10):\n",
    "    initial_r = 1.001*r0n  # start slightly above r0, otherwise circle (r=r0) results, not reaching the surface\n",
    "    r_sol = odeint(tb_ode, initial_r, theta_grid) \n",
    "    last = np.count_nonzero(r_sol < Rn) + 1  # discard values after reaching the surface\n",
    "    r_real = r_sol[0:last]\n",
    "    theta_real = theta_grid[0:last]\n",
    "    ax.plot(np.concatenate((-np.flip(theta_real), theta_real)), np.concatenate((np.flip(r_real), r_real)))  # symmetry "
   ]
  },
  {
   "cell_type": "markdown",
   "metadata": {},
   "source": [
    "### Überprüfen der vermuteten Lösung\n",
    "![terrestrial_brachistochrone.svg](https://github.com/nagelt/soil_dynamics/raw/master/Images/terrestrial_brachistochrone.svg)"
   ]
  },
  {
   "cell_type": "markdown",
   "metadata": {},
   "source": [
    "Die numerischen Ergebnisse und der Grenzfall der klassischen Brachistochrone $R=\\infty$ legen die Vermutung nahe, dass eine Hypozykloide, das Abrollen eines kleinen Kreises mit Radius $a=\\frac{R-r_0}{2}$ auf dem großen Kreis mit Radius $R$, die Lösung sein könnte. Das wollen wir durch symbolische Rechnung überprüfen."
   ]
  },
  {
   "cell_type": "code",
   "execution_count": 10,
   "metadata": {},
   "outputs": [],
   "source": [
    "a = (R-r0)/2"
   ]
  },
  {
   "cell_type": "markdown",
   "metadata": {},
   "source": [
    "Den Zusammenhang zwischen $\\psi$ und $\\theta$ liefert die Kreisbahn und die gemeinsame Gegenkathete"
   ]
  },
  {
   "cell_type": "code",
   "execution_count": 17,
   "metadata": {},
   "outputs": [
    {
     "data": {
      "text/latex": [
       "$\\displaystyle \\frac{\\mathrm{d} \\theta}{\\mathrm{d} \\psi}=\\frac{r_{0} \\left(R - r_{0}\\right) \\left(R^{2} \\sin^{2}{\\left(\\psi \\right)} + 2 R r_{0} \\cos{\\left(\\psi \\right)} + 2 R r_{0} - r_{0}^{2} \\sin^{2}{\\left(\\psi \\right)} + 2 r_{0}^{2} \\cos{\\left(\\psi \\right)} + 2 r_{0}^{2}\\right)}{2 R \\left(R + r_{0} + \\left(- R + r_{0}\\right) \\cos{\\left(\\psi \\right)}\\right) \\left(- R^{2} \\cos{\\left(\\psi \\right)} + R^{2} + r_{0}^{2} \\cos{\\left(\\psi \\right)} + r_{0}^{2}\\right)}$"
      ],
      "text/plain": [
       "<IPython.core.display.Math object>"
      ]
     },
     "metadata": {},
     "output_type": "display_data"
    }
   ],
   "source": [
    "THETA = (a/R)*psi + sp.atan(a*sp.sin(psi)/(R-a-a*sp.cos(psi)))\n",
    "d_theta_d_psi_tmp = sp.simplify( THETA.diff(psi) )\n",
    "display(Math(r'\\frac{\\mathrm{d} \\theta}{\\mathrm{d} \\psi}=' + sp.latex(d_theta_d_psi_tmp))) \n",
    "#print(sp.latex(d_theta_d_psi_tmp))"
   ]
  },
  {
   "cell_type": "markdown",
   "metadata": {},
   "source": [
    "Nun sollen noch $\\cos\\psi$ und $\\sin^2\\psi$ durch $r$ ausgedrückt werden, dabei helfen der Kosinussatz und der trigonometrische Pythagoras"
   ]
  },
  {
   "cell_type": "code",
   "execution_count": 12,
   "metadata": {},
   "outputs": [],
   "source": [
    "cospsi = (R**2 + 2*a**2 - 2*R*a - r**2)/(2*(R-a)*a)\n",
    "sin2psi = 1-cospsi**2"
   ]
  },
  {
   "cell_type": "code",
   "execution_count": 16,
   "metadata": {},
   "outputs": [
    {
     "data": {
      "text/latex": [
       "$\\displaystyle \\frac{\\mathrm{d} \\theta}{\\mathrm{d} \\psi}=\\frac{R r_{0}}{2 r^{2}} - \\frac{r_{0}}{2 R}$"
      ],
      "text/plain": [
       "<IPython.core.display.Math object>"
      ]
     },
     "metadata": {},
     "output_type": "display_data"
    }
   ],
   "source": [
    "d_theta_d_psi = sp.simplify( d_theta_d_psi_tmp.subs([ (sp.cos(psi), cospsi), (sp.sin(psi)**2, sin2psi)]) ) \n",
    "display(Math(r'\\frac{\\mathrm{d} \\theta}{\\mathrm{d} \\psi}=' + sp.latex(d_theta_d_psi))) \n",
    "#print(sp.latex(d_theta_d_psi))"
   ]
  },
  {
   "cell_type": "markdown",
   "metadata": {},
   "source": [
    "Intuitiv liegt es nahe den Kosinussatz\n",
    "$r^2 = (R-a)^2 + a^2 - 2(R-a)a\\cos\\psi$\n",
    "zu differenzieren, aber dann enthält die Ableitung $\\frac{\\mathrm{d}r}{\\mathrm{d}\\psi}$ den Term $\\sin\\psi$. Das ist ungünstig, weil nur $\\cos\\psi$ als Funktion von $r$ vorliegt (Kosinussatz). Insgesamt ist es einfacher von dem Halbwinkeltheorem $\\tan\\frac{\\psi}{2}=\\sqrt{\\frac{1-\\cos\\psi}{1+\\cos\\psi}}$ auszugehen, darin den Kosinussatz auszuwerten und dann die Ableitung $\\frac{\\mathrm{d}\\psi}{\\mathrm{d}r}$ zu berechnen."
   ]
  },
  {
   "cell_type": "code",
   "execution_count": 14,
   "metadata": {},
   "outputs": [
    {
     "data": {
      "text/latex": [
       "$\\displaystyle \\frac{\\mathrm{d} \\psi}{\\mathrm{d} r}=\\frac{2 r \\sqrt{\\frac{r^{2} - r_{0}^{2}}{R^{2} - r^{2}}}}{r^{2} - r_{0}^{2}}$"
      ],
      "text/plain": [
       "<IPython.core.display.Math object>"
      ]
     },
     "metadata": {},
     "output_type": "display_data"
    }
   ],
   "source": [
    "PSI = 2*sp.atan(sp.sqrt((r**2 - r0**2)/(R**2 - r**2)))\n",
    "d_psi_d_r = sp.simplify( PSI.diff(r) )\n",
    "display(Math(r'\\frac{\\mathrm{d} \\psi}{\\mathrm{d} r}=' + sp.latex(d_psi_d_r)))\n",
    "#print(sp.latex(d_psi_d_r))"
   ]
  },
  {
   "cell_type": "markdown",
   "metadata": {},
   "source": [
    "Den Ausdruck $r(\\theta)$ aufzustellen ist schwierig, aber dessen gesuchte Ableitung erhalten wir durch die Kettenregel $\\frac{\\mathrm{d}r}{\\mathrm{d}\\theta} = \\frac{\\mathrm{d}r}{\\mathrm{d}\\psi} \\frac{\\mathrm{d}\\psi}{\\mathrm{d}\\theta}$"
   ]
  },
  {
   "cell_type": "code",
   "execution_count": 15,
   "metadata": {},
   "outputs": [
    {
     "data": {
      "text/latex": [
       "$\\displaystyle \\frac{\\mathrm{d} r}{\\mathrm{d} \\theta}=\\frac{R r \\sqrt{\\frac{r^{2} - r_{0}^{2}}{R^{2} - r^{2}}}}{r_{0}}$"
      ],
      "text/plain": [
       "<IPython.core.display.Math object>"
      ]
     },
     "metadata": {},
     "output_type": "display_data"
    }
   ],
   "source": [
    "d_r_d_theta = sp.simplify( (1/d_psi_d_r)*(1/d_theta_d_psi) )\n",
    "display(Math(r'\\frac{\\mathrm{d} r}{\\mathrm{d} \\theta}=' + sp.latex(d_r_d_theta)))"
   ]
  },
  {
   "cell_type": "markdown",
   "metadata": {},
   "source": [
    "Das ist genau die Extremalbedingung der Laufzeit, die vermutete Lösung erweist sich als korrekt."
   ]
  }
 ],
 "metadata": {
  "kernelspec": {
   "display_name": "Python 3 (ipykernel)",
   "language": "python",
   "name": "python3"
  },
  "language_info": {
   "codemirror_mode": {
    "name": "ipython",
    "version": 3
   },
   "file_extension": ".py",
   "mimetype": "text/x-python",
   "name": "python",
   "nbconvert_exporter": "python",
   "pygments_lexer": "ipython3",
   "version": "3.8.10"
  }
 },
 "nbformat": 4,
 "nbformat_minor": 4
}
