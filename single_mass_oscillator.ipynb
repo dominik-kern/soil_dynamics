{
 "cells": [
  {
   "cell_type": "markdown",
   "metadata": {
    "deletable": false,
    "editable": false
   },
   "source": [
    "![Logo TUBAF](https://tu-freiberg.de/sites/default/files/media/freiberger-alumni-netzwerk-6127/wbm_orig_rgb_0.jpg)\n",
    "\n",
    "Exercise material of the MSc-level course **Soil Dynamics**.\n",
    "Held at Technische Universität Bergakademie Freiberg.\n",
    "\n",
    "Comments to:\n",
    "\n",
    "*Prof. Dr. Thomas Nagel  \n",
    "Chair of Soil Mechanics and Foundation Engineering  \n",
    "Geotechnical Institute  \n",
    "Technische Universität Bergakademie Freiberg.*\n",
    "\n",
    "https://tu-freiberg.de/en/soilmechanics\n"
   ]
  },
  {
   "cell_type": "markdown",
   "metadata": {},
   "source": [
    "# Einmassenschwinger, Grundlagen\n",
    "\n",
    "![oscillator1dof.png](https://github.com/nagelt/soil_dynamics/raw/master/Images/oscillator1dof.png)"
   ]
  },
  {
   "cell_type": "markdown",
   "metadata": {},
   "source": [
    "## Hilfsfunktionen"
   ]
  },
  {
   "cell_type": "markdown",
   "metadata": {},
   "source": [
    "Module laden"
   ]
  },
  {
   "cell_type": "code",
   "execution_count": 1,
   "metadata": {},
   "outputs": [],
   "source": [
    "import numpy as np\n",
    "import matplotlib.pyplot as plt\n",
    "from ipywidgets import widgets\n",
    "from ipywidgets import interact\n",
    "import plot_functions.plot_settings\n",
    "%run plot_functions/single_mass_oscillator_interaction.ipynb"
   ]
  },
  {
   "cell_type": "markdown",
   "metadata": {},
   "source": [
    "Umwandlung sin-cos-Darstellung in Amplitude-Phasenwinkel und zurück (nur zur Info und Überprüfung, wird nicht zur Lösung gebraucht)"
   ]
  },
  {
   "cell_type": "code",
   "execution_count": 2,
   "metadata": {},
   "outputs": [],
   "source": [
    "def sc2ap(s, c):\n",
    "    a = np.sqrt(s**2 + c**2)\n",
    "    p = np.arctan2(s, c)\n",
    "    return [a, p]"
   ]
  },
  {
   "cell_type": "code",
   "execution_count": 3,
   "metadata": {},
   "outputs": [],
   "source": [
    "def ap2sc(a, p):\n",
    "    s = a*np.sin(p)\n",
    "    c = a*np.cos(p)\n",
    "    return [s, c]"
   ]
  },
  {
   "cell_type": "markdown",
   "metadata": {},
   "source": [
    "Umrechnung der physikalischen Parameter in die Schwingungsparameter (Standardform)"
   ]
  },
  {
   "cell_type": "code",
   "execution_count": 4,
   "metadata": {},
   "outputs": [],
   "source": [
    "def standard_form(m, c, k, F_c, F_s):\n",
    "    if k==0 or m==0:\n",
    "        print(\"Warning: unphysical parameters for an oscillator!\")\n",
    "    omega_0 = np.sqrt(k/m)\n",
    "    zeta = c/(2*np.sqrt(k*m))\n",
    "    a_c = F_c/k\n",
    "    a_s = F_s/k\n",
    "    return [omega_0, zeta, a_c, a_s]"
   ]
  },
  {
   "cell_type": "markdown",
   "metadata": {},
   "source": [
    "Eingeschwungenen Zustand (partikuläre Lösung) berechnen, inklusive Vergrößerungsfunktion und Phasendifferenz"
   ]
  },
  {
   "cell_type": "code",
   "execution_count": 5,
   "metadata": {},
   "outputs": [],
   "source": [
    "def steady_state_solution(omega, omega_0, zeta, a_c, a_s):\n",
    "    eta = omega/omega_0\n",
    "    if eta==1 and zeta==0:   # TODO implement solutions up1(t) and up2(t) for this case as done for uh(t)\n",
    "        print(\"Warning: no steady-state solution for resonant excitation of undamped oscillator!\")\n",
    "        V = 0 \n",
    "        psi = 0\n",
    "        u_c = 0\n",
    "        u_s = 0\n",
    "    else:        \n",
    "        V2 = 1.0/( (1-eta**2)**2 + (2*eta*zeta)**2 )\n",
    "        V = np.sqrt(V2)\n",
    "        psi = np.arctan2(2*zeta*eta, 1-eta**2)\n",
    "        u_c = V2*( (1-eta**2)*a_c - 2*zeta*eta*a_s )\n",
    "        u_s = V2*( (1-eta**2)*a_s + 2*zeta*eta*a_c )\n",
    "    return [u_c, u_s, V, psi]"
   ]
  },
  {
   "cell_type": "markdown",
   "metadata": {},
   "source": [
    "Anpassen der Gesamtlösung an die Anfangsbedingungen"
   ]
  },
  {
   "cell_type": "code",
   "execution_count": 6,
   "metadata": {},
   "outputs": [],
   "source": [
    "def transient_solution(t_0, u_0, v_0):\n",
    "    uh_c1 = uh_1(t_0)\n",
    "    uh_c2 = uh_2(t_0)\n",
    "    vh_c1 = vh_1(t_0)\n",
    "    vh_c2 = vh_2(t_0)\n",
    "    up_0 = up(t_0)\n",
    "    vp_0 = vp(t_0)\n",
    "    # LGS Ax=b\n",
    "    A = np.array([[uh_c1, uh_c2], [vh_c1, vh_c2]])\n",
    "    b = np.array([u_0-up_0, v_0-vp_0])\n",
    "    x = np.linalg.solve(A, b)\n",
    "    C_1 = x[0]\n",
    "    C_2 = x[1]\n",
    "    return [C_1, C_2]"
   ]
  },
  {
   "cell_type": "markdown",
   "metadata": {},
   "source": [
    "Berechnen des Logarithmischen Dekrements (wichtige Größe in der experimentellen Schwingungsmessung) "
   ]
  },
  {
   "cell_type": "code",
   "execution_count": 7,
   "metadata": {},
   "outputs": [],
   "source": [
    "def log_decrement(t_0, t_N, u_0, u_N, N):\n",
    "    LD = (1.0/N)*np.log(u_0/u_N)\n",
    "    return LD"
   ]
  },
  {
   "cell_type": "markdown",
   "metadata": {},
   "source": [
    "## Simulation "
   ]
  },
  {
   "cell_type": "markdown",
   "metadata": {},
   "source": [
    "#### Passen Sie die Parameter entsprechend an:"
   ]
  },
  {
   "cell_type": "markdown",
   "metadata": {},
   "source": [
    "Freie ($F_c=F_s=0$), ungedämpfte ($c=0$) oder gedämpfte ($c>0$) Schwingung"
   ]
  },
  {
   "cell_type": "markdown",
   "metadata": {},
   "source": [
    "Erzwungene ($\\hat{F}>0$), ungedämpfte ($c=0$) oder gedämpfte ($c>0$) Schwingung"
   ]
  },
  {
   "cell_type": "code",
   "execution_count": 8,
   "metadata": {},
   "outputs": [],
   "source": [
    "m = 3.0   # kg\n",
    "k = 10.0   # N/m\n",
    "c = 1.0   # Ns/m   critical damping for c=2*sqrt(k*m)=10.95445115...\n",
    "F_c = 0.0   # N\n",
    "F_s = 5.0   # N\n",
    "omega = 10.0   # rad/s\n",
    "t_0 = 0.0   # s\n",
    "u_0 = 0.1   # m\n",
    "v_0 = 0.0   # m/s"
   ]
  },
  {
   "cell_type": "markdown",
   "metadata": {},
   "source": [
    "Berechnen der Schwingungsparameter und der zur Kraftanregung äquivalenten Federfusspunktanregung"
   ]
  },
  {
   "cell_type": "code",
   "execution_count": 9,
   "metadata": {},
   "outputs": [
    {
     "name": "stdout",
     "output_type": "stream",
     "text": [
      "omega_0=1.826 rad/s    zeta=0.091\n"
     ]
    }
   ],
   "source": [
    "[omega_0, zeta, a_c, a_s] = standard_form(m, c, k, F_c, F_s)   \n",
    "print(\"omega_0={:.3f} rad/s\".format(omega_0), \"   zeta={:.3f}\".format(zeta))\n",
    "\n",
    "# define harmonic excitation as function a(t)\n",
    "a = lambda t: a_c*np.cos(omega*t) + a_s*np.sin(omega*t)"
   ]
  },
  {
   "cell_type": "markdown",
   "metadata": {},
   "source": [
    "Berechnen des eingeschwungenen Zustands (partikuläre Lösung)"
   ]
  },
  {
   "cell_type": "code",
   "execution_count": 10,
   "metadata": {},
   "outputs": [
    {
     "name": "stdout",
     "output_type": "stream",
     "text": [
      "V=0.034    psi=3.107 rad\n",
      "u_c=-0.0006 m    u_s=-0.0172 m\n"
     ]
    }
   ],
   "source": [
    "[u_c, u_s, V, psi] = steady_state_solution(omega, omega_0, zeta, a_c, a_s)\n",
    "print(\"V={:.3f}\".format(V), \"   psi={:.3f} rad\".format(psi))\n",
    "print(\"u_c={:.4f} m\".format(u_c), \"   u_s={:.4f} m\".format(u_s))\n",
    "\n",
    "# define steady state solution u_p(t) and its time derivative v_p(t)\n",
    "up = lambda t: u_c*np.cos(omega*t) + u_s*np.sin(omega*t)\n",
    "vp = lambda t: (-u_c*np.sin(omega*t) + u_s*np.cos(omega*t)) * omega"
   ]
  },
  {
   "cell_type": "markdown",
   "metadata": {},
   "source": [
    "Anpassen der Gesamtlösung an Anfangsbedingungen, je Dämpfungsgrad (über-/unter-/kritisch) "
   ]
  },
  {
   "cell_type": "code",
   "execution_count": 12,
   "metadata": {},
   "outputs": [
    {
     "name": "stdout",
     "output_type": "stream",
     "text": [
      "omega_1=1.818 rad/s    delta=0.167 1/s\n",
      "C_1=0.101 m C_2=0.104 m\n"
     ]
    }
   ],
   "source": [
    "# define two solutions u_h(t) and their time derivative v_h(t), depending on discriminant\n",
    "if zeta < 1:\n",
    "    omega_1 = omega_0*np.sqrt(1-zeta**2)\n",
    "    delta = omega_0*zeta\n",
    "    print(\"omega_1={:.3f} rad/s\".format(omega_1), \"   delta={:.3f} 1/s\".format(delta))\n",
    "    uh_1 = lambda t: np.exp(-delta*t)*np.cos(omega_1*t)\n",
    "    uh_2 = lambda t: np.exp(-delta*t)*np.sin(omega_1*t)\n",
    "    vh_1 = lambda t: np.exp(-delta*t)*( -delta*np.cos(omega_1*t) - omega_1*np.sin(omega_1*t) )\n",
    "    vh_2 = lambda t: np.exp(-delta*t)*( -delta*np.sin(omega_1*t) + omega_1*np.cos(omega_1*t) )\n",
    "elif zeta > 1:\n",
    "    delta_1 = omega_0*(zeta - np.sqrt(zeta**2 - 1))\n",
    "    delta_2 = omega_0*(zeta + np.sqrt(zeta**2 - 1))\n",
    "    print(\"delta_1={:.3f} 1/s\".format(delta_1), \"   delta_2={:.3f} 1/s\".format(delta_2) )\n",
    "    uh_1 = lambda t: np.exp(-delta_1*t)\n",
    "    uh_2 = lambda t: np.exp(-delta_2*t)\n",
    "    vh_1 = lambda t: np.exp(-delta_1*t)*(-delta_1)\n",
    "    vh_2 = lambda t: np.exp(-delta_2*t)*(-delta_2)\n",
    "else:\n",
    "    delta = omega_0*zeta\n",
    "    print(\"delta={:.3f} 1/s\".format(delta), \"   (critical damping)\")\n",
    "    uh_1 = lambda t: np.exp(-delta*t)\n",
    "    uh_2 = lambda t: t*np.exp(-delta*t)\n",
    "    vh_1 = lambda t:-np.exp(-delta*t)*delta\n",
    "    vh_2 = lambda t: np.exp(-delta*t) - t*np.exp(-delta*t)*delta\n",
    "    \n",
    "[C_1, C_2] = transient_solution(t_0, u_0, v_0)\n",
    "print(\"C_1={:.3f} m\".format(C_1), \"C_2={:.3f} m\".format(C_2))\n",
    "\n",
    "# define adjusted solution of homogenous solution and total solution\n",
    "uh = lambda t: C_1*uh_1(t) + C_2*uh_2(t) \n",
    "u = lambda t:  uh(t) + up(t) "
   ]
  },
  {
   "cell_type": "markdown",
   "metadata": {},
   "source": [
    "Erstellen diskreter Lösungsverläufe auf einem Zeitraster und grafische Darstellung"
   ]
  },
  {
   "cell_type": "code",
   "execution_count": null,
   "metadata": {},
   "outputs": [],
   "source": [
    "Nplot=5\n",
    "t_5P = t_0 + Nplot*2*np.pi/omega_0   # <Nplot> periods of free vibrations (undamped)\n",
    "t_sample = np.linspace(t_0, t_5P , 250)   # discretization with 250 points in time\n",
    "a_sample = a(t_sample)\n",
    "uh_sample = uh(t_sample)\n",
    "up_sample = up(t_sample)\n",
    "u_sample = u(t_sample)"
   ]
  },
  {
   "cell_type": "code",
   "execution_count": null,
   "metadata": {},
   "outputs": [],
   "source": [
    "plt.plot(t_sample, uh_sample, 'b--', t_sample, up_sample, 'b:', t_sample, u_sample, 'b');\n",
    "plt.xlabel(\"$t$\");\n",
    "plt.ylabel(\"$u$\");"
   ]
  },
  {
   "cell_type": "code",
   "execution_count": null,
   "metadata": {},
   "outputs": [],
   "source": [
    "plt.plot(t_sample, a_sample, 'r', t_sample, up_sample, 'b:');\n",
    "plt.xlabel(\"$t$\");\n",
    "plt.ylabel(\"$u, a$\");"
   ]
  },
  {
   "cell_type": "markdown",
   "metadata": {},
   "source": [
    "**Diskussion:** Wie würden Sie das Einschalten einer Maschine simulieren, d.h. mit welchen Parametern und Anfangsbedingungen?"
   ]
  },
  {
   "cell_type": "code",
   "execution_count": null,
   "metadata": {},
   "outputs": [],
   "source": [
    "interactive_tau_u_plot()   # nondimensional parameters"
   ]
  },
  {
   "cell_type": "markdown",
   "metadata": {},
   "source": [
    "## Parameterbestimmung"
   ]
  },
  {
   "cell_type": "markdown",
   "metadata": {},
   "source": [
    "### Ausschwingversuch"
   ]
  },
  {
   "cell_type": "code",
   "execution_count": null,
   "metadata": {},
   "outputs": [],
   "source": [
    "t1 = 0   # s\n",
    "t2 = 1.0   # s\n",
    "u1 = 0.1   # m\n",
    "u2 = 0.08   # m\n",
    "N = 1"
   ]
  },
  {
   "cell_type": "markdown",
   "metadata": {},
   "source": [
    "Was wir im Experiment sehen ist die gedämpfte Eigenfrequenz"
   ]
  },
  {
   "cell_type": "code",
   "execution_count": null,
   "metadata": {},
   "outputs": [],
   "source": [
    "T_id = t2 - t1\n",
    "omega_1_id = 2.0*np.pi/T_id"
   ]
  },
  {
   "cell_type": "markdown",
   "metadata": {},
   "source": [
    "Nach einer Periode, wiederholen sich die harmonischen Funktionen, dadurch erfassen wir das Abklingen $e^{-\\delta t}$ und nutzen $e^{-\\delta t_2}=e^{-\\delta(t_1+T)}=e^{-\\delta t_1} e^{-\\delta T}$"
   ]
  },
  {
   "cell_type": "code",
   "execution_count": null,
   "metadata": {},
   "outputs": [],
   "source": [
    "LD = log_decrement(t1, t2, u1, u2, N)\n",
    "delta_id = LD/T_id\n",
    "c_id = 2*delta_id*m\n",
    "print(\"c_id={:.3f} Ns/m\".format(c_id) )"
   ]
  },
  {
   "cell_type": "markdown",
   "metadata": {},
   "source": [
    "Wir erinnern uns an $\\omega_1=\\omega_0\\sqrt{1-\\zeta^2}$ und $\\delta=\\zeta \\omega_0$"
   ]
  },
  {
   "cell_type": "code",
   "execution_count": null,
   "metadata": {},
   "outputs": [],
   "source": [
    "omega_0_id_squared = omega_1_id**2 + delta_id**2\n",
    "k_id = omega_0_id_squared*m\n",
    "print(\"k_id={:.3f} N/m\".format(k_id))"
   ]
  },
  {
   "cell_type": "markdown",
   "metadata": {},
   "source": [
    "### Schwingsaitenwaage"
   ]
  },
  {
   "cell_type": "code",
   "execution_count": null,
   "metadata": {},
   "outputs": [],
   "source": [
    "omega_measured = 10.0\n",
    "zeta_measured = 0.1"
   ]
  },
  {
   "cell_type": "markdown",
   "metadata": {},
   "source": [
    "ungedämpfte Eigenkreisfrequenz $\\omega_0=\\sqrt{\\frac{k}{m}}$"
   ]
  },
  {
   "cell_type": "code",
   "execution_count": null,
   "metadata": {},
   "outputs": [],
   "source": [
    "omega_0_measured_1 = omega_measured\n",
    "k_measured_1 = m*omega_0_measured_1**2    \n",
    "print(\"k1={:.3f} N/m\".format(k_measured_1) )"
   ]
  },
  {
   "cell_type": "markdown",
   "metadata": {},
   "source": [
    "gedämpfte Eigenkreisfrequenz $\\omega_1=\\omega_0\\sqrt{1-\\zeta^2}$"
   ]
  },
  {
   "cell_type": "code",
   "execution_count": null,
   "metadata": {},
   "outputs": [],
   "source": [
    "omega_0_measured_2 = omega_measured/np.sqrt(1-zeta_measured**2)\n",
    "k_measured_2 = m*omega_0_measured_2**2    \n",
    "print(\"k2={:.3f} N/m\".format(k_measured_2), \"   Delta={:2.2f} %\".format(100*np.abs(k_measured_2-k_measured_1)/k_measured_1))"
   ]
  },
  {
   "cell_type": "markdown",
   "metadata": {},
   "source": [
    "maximale Antwortamplitude bei der Anregungsfrequenz $\\omega_\\mathrm{MA}=\\omega_0\\sqrt{1-2\\zeta^2}$"
   ]
  },
  {
   "cell_type": "code",
   "execution_count": null,
   "metadata": {},
   "outputs": [],
   "source": [
    "omega_0_measured_3 = omega_measured/np.sqrt(1-2*zeta_measured**2)\n",
    "k_measured_3 = m*omega_0_measured_3**2    \n",
    "print(\"k3={:.3f} N/m\".format(k_measured_3), \"   Delta={:2.2f} %\".format(100*np.abs(k_measured_3-k_measured_1)/k_measured_1))"
   ]
  },
  {
   "cell_type": "markdown",
   "metadata": {},
   "source": [
    "**TODO** Energiebilanz über einen Zyklus Ekin, Epot, Etotal"
   ]
  },
  {
   "cell_type": "code",
   "execution_count": null,
   "metadata": {},
   "outputs": [],
   "source": []
  }
 ],
 "metadata": {
  "kernelspec": {
   "display_name": "Python 3",
   "language": "python",
   "name": "python3"
  },
  "language_info": {
   "codemirror_mode": {
    "name": "ipython",
    "version": 3
   },
   "file_extension": ".py",
   "mimetype": "text/x-python",
   "name": "python",
   "nbconvert_exporter": "python",
   "pygments_lexer": "ipython3",
   "version": "3.8.5"
  }
 },
 "nbformat": 4,
 "nbformat_minor": 4
}
